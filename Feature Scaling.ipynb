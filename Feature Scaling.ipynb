{
 "cells": [
  {
   "cell_type": "markdown",
   "id": "1b770254-e298-4aa6-8196-94c5e0e27d8b",
   "metadata": {},
   "source": [
    "## Feature Scaling"
   ]
  },
  {
   "cell_type": "markdown",
   "id": "914f457a-b9b3-4705-9241-d51f319a220c",
   "metadata": {},
   "source": [
    "#### 1. Standarization\n",
    "#### 2. Normalization- Min Max Scaler\n",
    "#### 3. Unit Vector\n",
    "#### 4. Principle Component Analysis (PCA)"
   ]
  },
  {
   "cell_type": "code",
   "execution_count": 54,
   "id": "60b32fe1-9875-4abb-950f-fda237def43b",
   "metadata": {},
   "outputs": [],
   "source": [
    "import seaborn as sns"
   ]
  },
  {
   "cell_type": "code",
   "execution_count": 110,
   "id": "1a38892a-4ce0-4b79-baa6-ddb3f0f67f09",
   "metadata": {},
   "outputs": [],
   "source": [
    "df=sns.load_dataset('tips')"
   ]
  },
  {
   "cell_type": "code",
   "execution_count": 56,
   "id": "592f824a-02b1-4841-a4c3-c6fda5ae0779",
   "metadata": {},
   "outputs": [
    {
     "data": {
      "text/html": [
       "<div>\n",
       "<style scoped>\n",
       "    .dataframe tbody tr th:only-of-type {\n",
       "        vertical-align: middle;\n",
       "    }\n",
       "\n",
       "    .dataframe tbody tr th {\n",
       "        vertical-align: top;\n",
       "    }\n",
       "\n",
       "    .dataframe thead th {\n",
       "        text-align: right;\n",
       "    }\n",
       "</style>\n",
       "<table border=\"1\" class=\"dataframe\">\n",
       "  <thead>\n",
       "    <tr style=\"text-align: right;\">\n",
       "      <th></th>\n",
       "      <th>total_bill</th>\n",
       "      <th>tip</th>\n",
       "      <th>sex</th>\n",
       "      <th>smoker</th>\n",
       "      <th>day</th>\n",
       "      <th>time</th>\n",
       "      <th>size</th>\n",
       "    </tr>\n",
       "  </thead>\n",
       "  <tbody>\n",
       "    <tr>\n",
       "      <th>0</th>\n",
       "      <td>16.99</td>\n",
       "      <td>1.01</td>\n",
       "      <td>Female</td>\n",
       "      <td>No</td>\n",
       "      <td>Sun</td>\n",
       "      <td>Dinner</td>\n",
       "      <td>2</td>\n",
       "    </tr>\n",
       "    <tr>\n",
       "      <th>1</th>\n",
       "      <td>10.34</td>\n",
       "      <td>1.66</td>\n",
       "      <td>Male</td>\n",
       "      <td>No</td>\n",
       "      <td>Sun</td>\n",
       "      <td>Dinner</td>\n",
       "      <td>3</td>\n",
       "    </tr>\n",
       "    <tr>\n",
       "      <th>2</th>\n",
       "      <td>21.01</td>\n",
       "      <td>3.50</td>\n",
       "      <td>Male</td>\n",
       "      <td>No</td>\n",
       "      <td>Sun</td>\n",
       "      <td>Dinner</td>\n",
       "      <td>3</td>\n",
       "    </tr>\n",
       "    <tr>\n",
       "      <th>3</th>\n",
       "      <td>23.68</td>\n",
       "      <td>3.31</td>\n",
       "      <td>Male</td>\n",
       "      <td>No</td>\n",
       "      <td>Sun</td>\n",
       "      <td>Dinner</td>\n",
       "      <td>2</td>\n",
       "    </tr>\n",
       "    <tr>\n",
       "      <th>4</th>\n",
       "      <td>24.59</td>\n",
       "      <td>3.61</td>\n",
       "      <td>Female</td>\n",
       "      <td>No</td>\n",
       "      <td>Sun</td>\n",
       "      <td>Dinner</td>\n",
       "      <td>4</td>\n",
       "    </tr>\n",
       "  </tbody>\n",
       "</table>\n",
       "</div>"
      ],
      "text/plain": [
       "   total_bill   tip     sex smoker  day    time  size\n",
       "0       16.99  1.01  Female     No  Sun  Dinner     2\n",
       "1       10.34  1.66    Male     No  Sun  Dinner     3\n",
       "2       21.01  3.50    Male     No  Sun  Dinner     3\n",
       "3       23.68  3.31    Male     No  Sun  Dinner     2\n",
       "4       24.59  3.61  Female     No  Sun  Dinner     4"
      ]
     },
     "execution_count": 56,
     "metadata": {},
     "output_type": "execute_result"
    }
   ],
   "source": [
    "df.head()"
   ]
  },
  {
   "cell_type": "markdown",
   "id": "764fb5a2-de91-4099-933b-9e31b7a91b04",
   "metadata": {},
   "source": [
    "#### 1)Standarization"
   ]
  },
  {
   "cell_type": "code",
   "execution_count": 13,
   "id": "89a7d703-cc82-40c0-833f-76b259a4f832",
   "metadata": {},
   "outputs": [
    {
     "data": {
      "text/plain": [
       "0      16.99\n",
       "1      10.34\n",
       "2      21.01\n",
       "3      23.68\n",
       "4      24.59\n",
       "       ...  \n",
       "239    29.03\n",
       "240    27.18\n",
       "241    22.67\n",
       "242    17.82\n",
       "243    18.78\n",
       "Name: total_bill, Length: 244, dtype: float64"
      ]
     },
     "execution_count": 13,
     "metadata": {},
     "output_type": "execute_result"
    }
   ],
   "source": [
    "df['total_bill'] #Considering total bill for fature selection"
   ]
  },
  {
   "cell_type": "code",
   "execution_count": 15,
   "id": "691f30a3-4612-4d07-8bf8-f18b275a4bdf",
   "metadata": {},
   "outputs": [],
   "source": [
    "avg=df['total_bill'].mean()"
   ]
  },
  {
   "cell_type": "code",
   "execution_count": 16,
   "id": "b68ff4f2-8385-453d-865b-5299a0bcecb4",
   "metadata": {},
   "outputs": [],
   "source": [
    "standarddeviation=df['total_bill'].std()"
   ]
  },
  {
   "cell_type": "code",
   "execution_count": 41,
   "id": "c0b2b4fb-566e-41c4-bf59-6ca702ef209d",
   "metadata": {},
   "outputs": [],
   "source": [
    "normalized_data=[]\n",
    "for i in df['total_bill'].to_list():\n",
    "    normalized_data.append((i-avg)/standarddeviation)"
   ]
  },
  {
   "cell_type": "code",
   "execution_count": 42,
   "id": "6cb05c9b-8e9f-4d84-a0b8-cbc47a24b5e4",
   "metadata": {},
   "outputs": [
    {
     "data": {
      "text/plain": [
       "[-0.31406574275923616,\n",
       " -1.0610543154877743,\n",
       " 0.13749727413831675,\n",
       " 0.4374159943165417,\n",
       " 0.5396354832162364,\n",
       " 0.6182658592929247,\n",
       " -1.237411016116918,\n",
       " 0.7968691420956879,\n",
       " -0.5331075046871533,\n",
       " -0.562313072944209,\n",
       " -1.0689173530954432,\n",
       " 1.7381870728423272,\n",
       " -0.49042244338837965,\n",
       " -0.15231182625862016,\n",
       " -0.5566966175101598,\n",
       " 0.20152486608647682,\n",
       " -1.0621776065745843,\n",
       " -0.3926961188359243,\n",
       " -0.31631232493285577,\n",
       " 0.09705879501316246,\n",
       " -0.2095996716859214,\n",
       " 0.05662031588800856,\n",
       " -0.45110725535003554,\n",
       " 2.205476164955218,\n",
       " 0.0038256348079465756,\n",
       " -0.22195587364082986,\n",
       " -0.7206971161843952,\n",
       " -0.7970809100874638,\n",
       " 0.2150043591281949,\n",
       " -0.015270313667820763,\n",
       " -1.149794311345751,\n",
       " -0.16129815495309863,\n",
       " -0.5308609225135336,\n",
       " 0.10155195936040208,\n",
       " -0.2253257469012591,\n",
       " 0.48010105561531524,\n",
       " -0.3904495366623047,\n",
       " -0.320805489280095,\n",
       " -0.12310625800156434,\n",
       " 1.2899939292052043,\n",
       " -0.4207783960061701,\n",
       " -0.26127106167917374,\n",
       " -0.6566695242362348,\n",
       " -1.1351915272172233,\n",
       " 1.1922676046527487,\n",
       " -0.16803790147395786,\n",
       " 0.27453878672911614,\n",
       " 1.4169258220147152,\n",
       " 0.9844587535929301,\n",
       " -0.19612017864420367,\n",
       " -0.8139302763896114,\n",
       " -1.0666707709218237,\n",
       " 1.6876389739358852,\n",
       " -1.1059859589601677,\n",
       " 0.6485947186367901,\n",
       " -0.03324297105677809,\n",
       " 2.047092121715031,\n",
       " 0.7440744610156259,\n",
       " -0.9599581176748895,\n",
       " 3.1995887767819196,\n",
       " 0.05662031588800856,\n",
       " -0.6712723083647625,\n",
       " -0.9846705215847058,\n",
       " -0.16803790147395786,\n",
       " -0.24666827755064605,\n",
       " 0.03303120306500199,\n",
       " -0.374723461446967,\n",
       " -1.8776869355985224,\n",
       " 0.04988056936714971,\n",
       " -0.5364773779475828,\n",
       " -0.8723414129037226,\n",
       " -0.30507941406475725,\n",
       " 0.7946225599220683,\n",
       " 0.617142568206115,\n",
       " -0.5679295283782579,\n",
       " -1.0419583670120072,\n",
       " -0.2095996716859214,\n",
       " 0.8328144568736026,\n",
       " 0.3340732143300374,\n",
       " -0.2803670101549411,\n",
       " -0.03885942649082694,\n",
       " -0.3511343486239604,\n",
       " -1.0913831748316398,\n",
       " 1.4483779724453907,\n",
       " -0.42751814252702897,\n",
       " 1.6898855561095045,\n",
       " -0.7588890131359296,\n",
       " -0.16916119256076748,\n",
       " 0.5531149762579546,\n",
       " 0.15434664044046406,\n",
       " 1.0316369792389428,\n",
       " 0.3037443549861716,\n",
       " -1.5766449243334872,\n",
       " -0.38932624557549467,\n",
       " 0.33294992324322736,\n",
       " 2.2897229964659553,\n",
       " 0.8418007855680815,\n",
       " -0.8712181218169128,\n",
       " 0.13749727413831675,\n",
       " -0.8229166050840898,\n",
       " -0.9476019157199813,\n",
       " -0.4949156077356189,\n",
       " 2.7536422153184152,\n",
       " 0.2958813173785031,\n",
       " 0.12738765435702828,\n",
       " -0.49716218990923866,\n",
       " 0.07908613762420512,\n",
       " 0.6092795305984462,\n",
       " -0.17365435690800712,\n",
       " -0.615107754024271,\n",
       " -0.6499297777153757,\n",
       " -1.4081512613120124,\n",
       " 2.0538318682358905,\n",
       " 0.46774485366040713,\n",
       " 0.6654440849389378,\n",
       " -0.27812042798132147,\n",
       " 1.1394729235726868,\n",
       " -1.0262322917966695,\n",
       " -0.8262864783445195,\n",
       " 0.48234763778893486,\n",
       " -0.9094100187684471,\n",
       " -0.715080660750346,\n",
       " -0.6207242094583202,\n",
       " -0.4308880157874586,\n",
       " -0.8206700229104702,\n",
       " 1.1248701394441591,\n",
       " -1.2654932932871639,\n",
       " -0.5915186412012645,\n",
       " -0.9442320424595517,\n",
       " 0.34081296085089624,\n",
       " -0.07929790561598123,\n",
       " 0.054373733714388944,\n",
       " -0.9678211552825583,\n",
       " -0.8453824268202866,\n",
       " -0.1714077747343871,\n",
       " -1.2666165843739736,\n",
       " -1.0621776065745843,\n",
       " -0.6330804114132282,\n",
       " -0.42527156035340935,\n",
       " -0.7442862290074017,\n",
       " -0.26014777059236416,\n",
       " 1.6303511285085832,\n",
       " 2.4042986873205576,\n",
       " 0.8159650905714553,\n",
       " -0.3769700436205866,\n",
       " -1.284589241762931,\n",
       " -0.1287227134356136,\n",
       " -0.8891907792058701,\n",
       " -1.123958616349125,\n",
       " -1.3789456930549568,\n",
       " -0.6420667401077069,\n",
       " -0.7476561022678311,\n",
       " -0.28373688341537034,\n",
       " 0.5351423188689972,\n",
       " -0.0017908206261026652,\n",
       " 1.1304865948782084,\n",
       " 3.188355865913821,\n",
       " 0.5856904177754396,\n",
       " -0.7184505340107755,\n",
       " -0.37023029709972777,\n",
       " 0.19253853739199836,\n",
       " -0.8004507833478933,\n",
       " -0.4016824475304028,\n",
       " -0.6712723083647625,\n",
       " -0.25565460624512454,\n",
       " 0.5317724456085676,\n",
       " 0.10941499696807094,\n",
       " 1.3394187370248372,\n",
       " -1.0329720383175285,\n",
       " -1.028478873970289,\n",
       " 3.4849047128316166,\n",
       " -0.4466140910027961,\n",
       " -1.4081512613120124,\n",
       " 1.3551448122401748,\n",
       " -0.33316169123500305,\n",
       " 1.4730903763552068,\n",
       " -0.212969544946351,\n",
       " -0.5960118055485037,\n",
       " -1.144177855911702,\n",
       " 1.6674197343733084,\n",
       " 1.6696663165469274,\n",
       " 0.39810080627819744,\n",
       " 2.8715877794334483,\n",
       " 0.3801281488892405,\n",
       " 2.332408057764728,\n",
       " 0.10155195936040208,\n",
       " 0.12514107218340825,\n",
       " 1.1990073511736081,\n",
       " -0.1837639766892956,\n",
       " 0.37226511128157164,\n",
       " -0.4600935840445142,\n",
       " 0.002702343721136568,\n",
       " 0.9721025516380221,\n",
       " -0.4836826968675206,\n",
       " -0.3601206773184393,\n",
       " -1.3733292376209079,\n",
       " -1.0610543154877743,\n",
       " 2.6199705759880456,\n",
       " -0.762258886396359,\n",
       " -0.7049710409690576,\n",
       " -0.12085967582794473,\n",
       " -0.7914644546534146,\n",
       " -0.762258886396359,\n",
       " -0.3803399168810162,\n",
       " 0.08357930197144475,\n",
       " -0.3724768792733474,\n",
       " 0.7642937005782029,\n",
       " 2.127969079965339,\n",
       " 0.5036901684383218,\n",
       " -0.789217872479795,\n",
       " 1.1540757077012145,\n",
       " 0.6856633245015148,\n",
       " 3.206328523302778,\n",
       " -0.7319300270524935,\n",
       " 0.9417736922941566,\n",
       " -0.7734917972644573,\n",
       " 0.9395271101205366,\n",
       " -0.9206429296365454,\n",
       " -1.3531099980583308,\n",
       " 1.1630620363956934,\n",
       " -0.8566153376883849,\n",
       " -0.715080660750346,\n",
       " -1.258753546766305,\n",
       " -0.42751814252702897,\n",
       " -0.715080660750346,\n",
       " -0.39494270100954393,\n",
       " -1.08913659265802,\n",
       " 0.07459297327696589,\n",
       " -0.7308067359656838,\n",
       " 0.2621825847742081,\n",
       " 0.4744846001812664,\n",
       " -0.4600935840445142,\n",
       " -0.9183963474629258,\n",
       " -1.0127527987549516,\n",
       " -0.47806624143347154,\n",
       " -1.0913831748316398,\n",
       " -0.8071905298687523,\n",
       " 1.465227338747538,\n",
       " 1.8022146647904878,\n",
       " 1.038376725759802,\n",
       " 0.8305678746999829,\n",
       " 0.3239635945487489,\n",
       " -0.22083258255401986,\n",
       " -0.11299663822027588]"
      ]
     },
     "execution_count": 42,
     "metadata": {},
     "output_type": "execute_result"
    }
   ],
   "source": [
    "normalized_data"
   ]
  },
  {
   "cell_type": "code",
   "execution_count": 43,
   "id": "a398ee8f-83ae-46ac-b64f-5bc1ba912b44",
   "metadata": {},
   "outputs": [
    {
     "data": {
      "text/plain": [
       "<AxesSubplot: xlabel='total_bill', ylabel='Count'>"
      ]
     },
     "execution_count": 43,
     "metadata": {},
     "output_type": "execute_result"
    },
    {
     "data": {
      "image/png": "[encoded data removed]",
      "text/plain": [
       "<Figure size 640x480 with 1 Axes>"
      ]
     },
     "metadata": {},
     "output_type": "display_data"
    }
   ],
   "source": [
    "sns.histplot(df['total_bill'])"
   ]
  },
  {
   "cell_type": "code",
   "execution_count": 45,
   "id": "cd2a74d9-3f93-4ed7-a0e7-6c1955f431c5",
   "metadata": {},
   "outputs": [
    {
     "data": {
      "text/plain": [
       "<AxesSubplot: ylabel='Count'>"
      ]
     },
     "execution_count": 45,
     "metadata": {},
     "output_type": "execute_result"
    },
    {
     "data": {
      "image/png": "[encoded data removed]",
      "text/plain": [
       "<Figure size 640x480 with 1 Axes>"
      ]
     },
     "metadata": {},
     "output_type": "display_data"
    }
   ],
   "source": [
    "sns.histplot(normalized_data)"
   ]
  },
  {
   "cell_type": "code",
   "execution_count": 47,
   "id": "241a9ae3-ccee-495a-9746-b087ae7d35aa",
   "metadata": {},
   "outputs": [
    {
     "data": {
      "text/plain": [
       "<AxesSubplot: ylabel='Count'>"
      ]
     },
     "execution_count": 47,
     "metadata": {},
     "output_type": "execute_result"
    },
    {
     "data": {
      "image/png": "[encoded data removed]",
      "text/plain": [
       "<Figure size 640x480 with 1 Axes>"
      ]
     },
     "metadata": {},
     "output_type": "display_data"
    }
   ],
   "source": [
    "sns.histplot(normalized_data,kde=True)"
   ]
  },
  {
   "cell_type": "code",
   "execution_count": 49,
   "id": "89c23036-d5bf-4c4c-a483-80fbee0e47c6",
   "metadata": {},
   "outputs": [],
   "source": [
    "from sklearn.preprocessing import StandardScaler"
   ]
  },
  {
   "cell_type": "code",
   "execution_count": 50,
   "id": "fbb943fb-1a71-4710-91b1-028d97de2567",
   "metadata": {},
   "outputs": [],
   "source": [
    "scaler=StandardScaler()"
   ]
  },
  {
   "cell_type": "code",
   "execution_count": 51,
   "id": "a753b7f1-67ab-42bd-9e80-a1d0fb0424d1",
   "metadata": {},
   "outputs": [
    {
     "data": {
      "text/html": [
       "<style>#sk-container-id-1 {color: black;background-color: white;}#sk-container-id-1 pre{padding: 0;}#sk-container-id-1 div.sk-toggleable {background-color: white;}#sk-container-id-1 label.sk-toggleable__label {cursor: pointer;display: block;width: 100%;margin-bottom: 0;padding: 0.3em;box-sizing: border-box;text-align: center;}#sk-container-id-1 label.sk-toggleable__label-arrow:before {content: \"▸\";float: left;margin-right: 0.25em;color: #696969;}#sk-container-id-1 label.sk-toggleable__label-arrow:hover:before {color: black;}#sk-container-id-1 div.sk-estimator:hover label.sk-toggleable__label-arrow:before {color: black;}#sk-container-id-1 div.sk-toggleable__content {max-height: 0;max-width: 0;overflow: hidden;text-align: left;background-color: #f0f8ff;}#sk-container-id-1 div.sk-toggleable__content pre {margin: 0.2em;color: black;border-radius: 0.25em;background-color: #f0f8ff;}#sk-container-id-1 input.sk-toggleable__control:checked~div.sk-toggleable__content {max-height: 200px;max-width: 100%;overflow: auto;}#sk-container-id-1 input.sk-toggleable__control:checked~label.sk-toggleable__label-arrow:before {content: \"▾\";}#sk-container-id-1 div.sk-estimator input.sk-toggleable__control:checked~label.sk-toggleable__label {background-color: #d4ebff;}#sk-container-id-1 div.sk-label input.sk-toggleable__control:checked~label.sk-toggleable__label {background-color: #d4ebff;}#sk-container-id-1 input.sk-hidden--visually {border: 0;clip: rect(1px 1px 1px 1px);clip: rect(1px, 1px, 1px, 1px);height: 1px;margin: -1px;overflow: hidden;padding: 0;position: absolute;width: 1px;}#sk-container-id-1 div.sk-estimator {font-family: monospace;background-color: #f0f8ff;border: 1px dotted black;border-radius: 0.25em;box-sizing: border-box;margin-bottom: 0.5em;}#sk-container-id-1 div.sk-estimator:hover {background-color: #d4ebff;}#sk-container-id-1 div.sk-parallel-item::after {content: \"\";width: 100%;border-bottom: 1px solid gray;flex-grow: 1;}#sk-container-id-1 div.sk-label:hover label.sk-toggleable__label {background-color: #d4ebff;}#sk-container-id-1 div.sk-serial::before {content: \"\";position: absolute;border-left: 1px solid gray;box-sizing: border-box;top: 0;bottom: 0;left: 50%;z-index: 0;}#sk-container-id-1 div.sk-serial {display: flex;flex-direction: column;align-items: center;background-color: white;padding-right: 0.2em;padding-left: 0.2em;position: relative;}#sk-container-id-1 div.sk-item {position: relative;z-index: 1;}#sk-container-id-1 div.sk-parallel {display: flex;align-items: stretch;justify-content: center;background-color: white;position: relative;}#sk-container-id-1 div.sk-item::before, #sk-container-id-1 div.sk-parallel-item::before {content: \"\";position: absolute;border-left: 1px solid gray;box-sizing: border-box;top: 0;bottom: 0;left: 50%;z-index: -1;}#sk-container-id-1 div.sk-parallel-item {display: flex;flex-direction: column;z-index: 1;position: relative;background-color: white;}#sk-container-id-1 div.sk-parallel-item:first-child::after {align-self: flex-end;width: 50%;}#sk-container-id-1 div.sk-parallel-item:last-child::after {align-self: flex-start;width: 50%;}#sk-container-id-1 div.sk-parallel-item:only-child::after {width: 0;}#sk-container-id-1 div.sk-dashed-wrapped {border: 1px dashed gray;margin: 0 0.4em 0.5em 0.4em;box-sizing: border-box;padding-bottom: 0.4em;background-color: white;}#sk-container-id-1 div.sk-label label {font-family: monospace;font-weight: bold;display: inline-block;line-height: 1.2em;}#sk-container-id-1 div.sk-label-container {text-align: center;}#sk-container-id-1 div.sk-container {/* jupyter's `normalize.less` sets `[hidden] { display: none; }` but bootstrap.min.css set `[hidden] { display: none !important; }` so we also need the `!important` here to be able to override the default hidden behavior on the sphinx rendered scikit-learn.org. See: https://github.com/scikit-learn/scikit-learn/issues/21755 */display: inline-block !important;position: relative;}#sk-container-id-1 div.sk-text-repr-fallback {display: none;}</style><div id=\"sk-container-id-1\" class=\"sk-top-container\"><div class=\"sk-text-repr-fallback\"><pre>StandardScaler()</pre><b>In a Jupyter environment, please rerun this cell to show the HTML representation or trust the notebook. <br />On GitHub, the HTML representation is unable to render, please try loading this page with nbviewer.org.</b></div><div class=\"sk-container\" hidden><div class=\"sk-item\"><div class=\"sk-estimator sk-toggleable\"><input class=\"sk-toggleable__control sk-hidden--visually\" id=\"sk-estimator-id-1\" type=\"checkbox\" checked><label for=\"sk-estimator-id-1\" class=\"sk-toggleable__label sk-toggleable__label-arrow\">StandardScaler</label><div class=\"sk-toggleable__content\"><pre>StandardScaler()</pre></div></div></div></div></div>"
      ],
      "text/plain": [
       "StandardScaler()"
      ]
     },
     "execution_count": 51,
     "metadata": {},
     "output_type": "execute_result"
    }
   ],
   "source": [
    "scaler"
   ]
  },
  {
   "cell_type": "code",
   "execution_count": 59,
   "id": "c9be24da-0d88-4d89-979f-766755d79ab0",
   "metadata": {},
   "outputs": [
    {
     "data": {
      "text/html": [
       "<style>#sk-container-id-3 {color: black;background-color: white;}#sk-container-id-3 pre{padding: 0;}#sk-container-id-3 div.sk-toggleable {background-color: white;}#sk-container-id-3 label.sk-toggleable__label {cursor: pointer;display: block;width: 100%;margin-bottom: 0;padding: 0.3em;box-sizing: border-box;text-align: center;}#sk-container-id-3 label.sk-toggleable__label-arrow:before {content: \"▸\";float: left;margin-right: 0.25em;color: #696969;}#sk-container-id-3 label.sk-toggleable__label-arrow:hover:before {color: black;}#sk-container-id-3 div.sk-estimator:hover label.sk-toggleable__label-arrow:before {color: black;}#sk-container-id-3 div.sk-toggleable__content {max-height: 0;max-width: 0;overflow: hidden;text-align: left;background-color: #f0f8ff;}#sk-container-id-3 div.sk-toggleable__content pre {margin: 0.2em;color: black;border-radius: 0.25em;background-color: #f0f8ff;}#sk-container-id-3 input.sk-toggleable__control:checked~div.sk-toggleable__content {max-height: 200px;max-width: 100%;overflow: auto;}#sk-container-id-3 input.sk-toggleable__control:checked~label.sk-toggleable__label-arrow:before {content: \"▾\";}#sk-container-id-3 div.sk-estimator input.sk-toggleable__control:checked~label.sk-toggleable__label {background-color: #d4ebff;}#sk-container-id-3 div.sk-label input.sk-toggleable__control:checked~label.sk-toggleable__label {background-color: #d4ebff;}#sk-container-id-3 input.sk-hidden--visually {border: 0;clip: rect(1px 1px 1px 1px);clip: rect(1px, 1px, 1px, 1px);height: 1px;margin: -1px;overflow: hidden;padding: 0;position: absolute;width: 1px;}#sk-container-id-3 div.sk-estimator {font-family: monospace;background-color: #f0f8ff;border: 1px dotted black;border-radius: 0.25em;box-sizing: border-box;margin-bottom: 0.5em;}#sk-container-id-3 div.sk-estimator:hover {background-color: #d4ebff;}#sk-container-id-3 div.sk-parallel-item::after {content: \"\";width: 100%;border-bottom: 1px solid gray;flex-grow: 1;}#sk-container-id-3 div.sk-label:hover label.sk-toggleable__label {background-color: #d4ebff;}#sk-container-id-3 div.sk-serial::before {content: \"\";position: absolute;border-left: 1px solid gray;box-sizing: border-box;top: 0;bottom: 0;left: 50%;z-index: 0;}#sk-container-id-3 div.sk-serial {display: flex;flex-direction: column;align-items: center;background-color: white;padding-right: 0.2em;padding-left: 0.2em;position: relative;}#sk-container-id-3 div.sk-item {position: relative;z-index: 1;}#sk-container-id-3 div.sk-parallel {display: flex;align-items: stretch;justify-content: center;background-color: white;position: relative;}#sk-container-id-3 div.sk-item::before, #sk-container-id-3 div.sk-parallel-item::before {content: \"\";position: absolute;border-left: 1px solid gray;box-sizing: border-box;top: 0;bottom: 0;left: 50%;z-index: -1;}#sk-container-id-3 div.sk-parallel-item {display: flex;flex-direction: column;z-index: 1;position: relative;background-color: white;}#sk-container-id-3 div.sk-parallel-item:first-child::after {align-self: flex-end;width: 50%;}#sk-container-id-3 div.sk-parallel-item:last-child::after {align-self: flex-start;width: 50%;}#sk-container-id-3 div.sk-parallel-item:only-child::after {width: 0;}#sk-container-id-3 div.sk-dashed-wrapped {border: 1px dashed gray;margin: 0 0.4em 0.5em 0.4em;box-sizing: border-box;padding-bottom: 0.4em;background-color: white;}#sk-container-id-3 div.sk-label label {font-family: monospace;font-weight: bold;display: inline-block;line-height: 1.2em;}#sk-container-id-3 div.sk-label-container {text-align: center;}#sk-container-id-3 div.sk-container {/* jupyter's `normalize.less` sets `[hidden] { display: none; }` but bootstrap.min.css set `[hidden] { display: none !important; }` so we also need the `!important` here to be able to override the default hidden behavior on the sphinx rendered scikit-learn.org. See: https://github.com/scikit-learn/scikit-learn/issues/21755 */display: inline-block !important;position: relative;}#sk-container-id-3 div.sk-text-repr-fallback {display: none;}</style><div id=\"sk-container-id-3\" class=\"sk-top-container\"><div class=\"sk-text-repr-fallback\"><pre>StandardScaler()</pre><b>In a Jupyter environment, please rerun this cell to show the HTML representation or trust the notebook. <br />On GitHub, the HTML representation is unable to render, please try loading this page with nbviewer.org.</b></div><div class=\"sk-container\" hidden><div class=\"sk-item\"><div class=\"sk-estimator sk-toggleable\"><input class=\"sk-toggleable__control sk-hidden--visually\" id=\"sk-estimator-id-3\" type=\"checkbox\" checked><label for=\"sk-estimator-id-3\" class=\"sk-toggleable__label sk-toggleable__label-arrow\">StandardScaler</label><div class=\"sk-toggleable__content\"><pre>StandardScaler()</pre></div></div></div></div></div>"
      ],
      "text/plain": [
       "StandardScaler()"
      ]
     },
     "execution_count": 59,
     "metadata": {},
     "output_type": "execute_result"
    }
   ],
   "source": [
    "scaler.fit(df[['total_bill']]) #Computes meand and standard deviation required for standarization"
   ]
  },
  {
   "cell_type": "code",
   "execution_count": 61,
   "id": "7ba743a9-7dd6-4fa0-9bbb-07b77cc96da9",
   "metadata": {},
   "outputs": [
    {
     "data": {
      "text/plain": [
       "array([[-3.14711305e-01],\n",
       "       [-1.06323531e+00],\n",
       "       [ 1.37779900e-01],\n",
       "       [ 4.38315103e-01],\n",
       "       [ 5.40744704e-01],\n",
       "       [ 6.19536705e-01],\n",
       "       [-1.23995452e+00],\n",
       "       [ 7.98507107e-01],\n",
       "       [-5.34203307e-01],\n",
       "       [-5.63468908e-01],\n",
       "       [-1.07111451e+00],\n",
       "       [ 1.74175992e+00],\n",
       "       [-4.91430507e-01],\n",
       "       [-1.52624903e-01],\n",
       "       [-5.57840908e-01],\n",
       "       [ 2.01939101e-01],\n",
       "       [-1.06436091e+00],\n",
       "       [-3.93503306e-01],\n",
       "       [-3.16962505e-01],\n",
       "       [ 9.72582994e-02],\n",
       "       [-2.10030504e-01],\n",
       "       [ 5.67366990e-02],\n",
       "       [-4.52034507e-01],\n",
       "       [ 2.21000952e+00],\n",
       "       [ 3.83349840e-03],\n",
       "       [-2.22412104e-01],\n",
       "       [-7.22178510e-01],\n",
       "       [-7.98719310e-01],\n",
       "       [ 2.15446301e-01],\n",
       "       [-1.53017018e-02],\n",
       "       [-1.15215771e+00],\n",
       "       [-1.61629703e-01],\n",
       "       [-5.31952107e-01],\n",
       "       [ 1.01760699e-01],\n",
       "       [-2.25788904e-01],\n",
       "       [ 4.81087904e-01],\n",
       "       [-3.91252106e-01],\n",
       "       [-3.21464905e-01],\n",
       "       [-1.23359303e-01],\n",
       "       [ 1.29264551e+00],\n",
       "       [-4.21643306e-01],\n",
       "       [-2.61808105e-01],\n",
       "       [-6.58019309e-01],\n",
       "       [-1.13752491e+00],\n",
       "       [ 1.19471831e+00],\n",
       "       [-1.68383303e-01],\n",
       "       [ 2.75103101e-01],\n",
       "       [ 1.41983831e+00],\n",
       "       [ 9.86482309e-01],\n",
       "       [-1.96523304e-01],\n",
       "       [-8.15603311e-01],\n",
       "       [-1.06886331e+00],\n",
       "       [ 1.69110792e+00],\n",
       "       [-1.10825931e+00],\n",
       "       [ 6.49927905e-01],\n",
       "       [-3.33113020e-02],\n",
       "       [ 2.05129992e+00],\n",
       "       [ 7.45603907e-01],\n",
       "       [-9.61931312e-01],\n",
       "       [ 3.20616553e+00],\n",
       "       [ 5.67366990e-02],\n",
       "       [-6.72652109e-01],\n",
       "       [-9.86694512e-01],\n",
       "       [-1.68383303e-01],\n",
       "       [-2.47175304e-01],\n",
       "       [ 3.30990987e-02],\n",
       "       [-3.75493706e-01],\n",
       "       [-1.88154652e+00],\n",
       "       [ 4.99830989e-02],\n",
       "       [-5.37580108e-01],\n",
       "       [-8.74134511e-01],\n",
       "       [-3.05706505e-01],\n",
       "       [ 7.96255907e-01],\n",
       "       [ 6.18411105e-01],\n",
       "       [-5.69096908e-01],\n",
       "       [-1.04410011e+00],\n",
       "       [-2.10030504e-01],\n",
       "       [ 8.34526308e-01],\n",
       "       [ 3.34759902e-01],\n",
       "       [-2.80943305e-01],\n",
       "       [-3.89393021e-02],\n",
       "       [-3.51856105e-01],\n",
       "       [-1.09362651e+00],\n",
       "       [ 1.45135511e+00],\n",
       "       [-4.28396906e-01],\n",
       "       [ 1.69335912e+00],\n",
       "       [-7.60448910e-01],\n",
       "       [-1.69508903e-01],\n",
       "       [ 5.54251904e-01],\n",
       "       [ 1.54663900e-01],\n",
       "       [ 1.03375751e+00],\n",
       "       [ 3.04368702e-01],\n",
       "       [-1.57988572e+00],\n",
       "       [-3.90126506e-01],\n",
       "       [ 3.33634302e-01],\n",
       "       [ 2.29442952e+00],\n",
       "       [ 8.43531108e-01],\n",
       "       [-8.73008911e-01],\n",
       "       [ 1.37779900e-01],\n",
       "       [-8.24608111e-01],\n",
       "       [-9.49549712e-01],\n",
       "       [-4.95932907e-01],\n",
       "       [ 2.75930233e+00],\n",
       "       [ 2.96489502e-01],\n",
       "       [ 1.27649500e-01],\n",
       "       [-4.98184107e-01],\n",
       "       [ 7.92486992e-02],\n",
       "       [ 6.10531905e-01],\n",
       "       [-1.74011304e-01],\n",
       "       [-6.16372108e-01],\n",
       "       [-6.51265709e-01],\n",
       "       [-1.41104572e+00],\n",
       "       [ 2.05805352e+00],\n",
       "       [ 4.68706304e-01],\n",
       "       [ 6.66811906e-01],\n",
       "       [-2.78692105e-01],\n",
       "       [ 1.14181511e+00],\n",
       "       [-1.02834171e+00],\n",
       "       [-8.27984911e-01],\n",
       "       [ 4.83339104e-01],\n",
       "       [-9.11279312e-01],\n",
       "       [-7.16550509e-01],\n",
       "       [-6.22000108e-01],\n",
       "       [-4.31773706e-01],\n",
       "       [-8.22356911e-01],\n",
       "       [ 1.12718231e+00],\n",
       "       [-1.26809452e+00],\n",
       "       [-5.92734508e-01],\n",
       "       [-9.46172912e-01],\n",
       "       [ 3.41513502e-01],\n",
       "       [-7.94609025e-02],\n",
       "       [ 5.44854990e-02],\n",
       "       [-9.69810512e-01],\n",
       "       [-8.47120111e-01],\n",
       "       [-1.71760104e-01],\n",
       "       [-1.26922012e+00],\n",
       "       [-1.06436091e+00],\n",
       "       [-6.34381709e-01],\n",
       "       [-4.26145706e-01],\n",
       "       [-7.45816110e-01],\n",
       "       [-2.60682504e-01],\n",
       "       [ 1.63370232e+00],\n",
       "       [ 2.40924072e+00],\n",
       "       [ 8.17642307e-01],\n",
       "       [-3.77744906e-01],\n",
       "       [-1.28722972e+00],\n",
       "       [-1.28987303e-01],\n",
       "       [-8.91018511e-01],\n",
       "       [-1.12626891e+00],\n",
       "       [-1.38178012e+00],\n",
       "       [-6.43386509e-01],\n",
       "       [-7.49192910e-01],\n",
       "       [-2.84320105e-01],\n",
       "       [ 5.36242304e-01],\n",
       "       [-1.79450166e-03],\n",
       "       [ 1.13281031e+00],\n",
       "       [ 3.19490953e+00],\n",
       "       [ 5.86894305e-01],\n",
       "       [-7.19927310e-01],\n",
       "       [-3.70991306e-01],\n",
       "       [ 1.92934300e-01],\n",
       "       [-8.02096110e-01],\n",
       "       [-4.02508106e-01],\n",
       "       [-6.72652109e-01],\n",
       "       [-2.56180104e-01],\n",
       "       [ 5.32865504e-01],\n",
       "       [ 1.09639900e-01],\n",
       "       [ 1.34217191e+00],\n",
       "       [-1.03509531e+00],\n",
       "       [-1.03059291e+00],\n",
       "       [ 3.49206794e+00],\n",
       "       [-4.47532107e-01],\n",
       "       [-1.41104572e+00],\n",
       "       [ 1.35793031e+00],\n",
       "       [-3.33846505e-01],\n",
       "       [ 1.47611831e+00],\n",
       "       [-2.13407304e-01],\n",
       "       [-5.97236908e-01],\n",
       "       [-1.14652971e+00],\n",
       "       [ 1.67084712e+00],\n",
       "       [ 1.67309832e+00],\n",
       "       [ 3.98919103e-01],\n",
       "       [ 2.87749033e+00],\n",
       "       [ 3.80909503e-01],\n",
       "       [ 2.33720232e+00],\n",
       "       [ 1.01760699e-01],\n",
       "       [ 1.25398300e-01],\n",
       "       [ 1.20147191e+00],\n",
       "       [-1.84141704e-01],\n",
       "       [ 3.73030302e-01],\n",
       "       [-4.61039307e-01],\n",
       "       [ 2.70789839e-03],\n",
       "       [ 9.74100709e-01],\n",
       "       [-4.84676907e-01],\n",
       "       [-3.60860906e-01],\n",
       "       [-1.37615212e+00],\n",
       "       [-1.06323531e+00],\n",
       "       [ 2.62535593e+00],\n",
       "       [-7.63825710e-01],\n",
       "       [-7.06420109e-01],\n",
       "       [-1.21108103e-01],\n",
       "       [-7.93091310e-01],\n",
       "       [-7.63825710e-01],\n",
       "       [-3.81121706e-01],\n",
       "       [ 8.37510993e-02],\n",
       "       [-3.73242506e-01],\n",
       "       [ 7.65864707e-01],\n",
       "       [ 2.13234312e+00],\n",
       "       [ 5.04725504e-01],\n",
       "       [-7.90840110e-01],\n",
       "       [ 1.15644791e+00],\n",
       "       [ 6.87072706e-01],\n",
       "       [ 3.21291913e+00],\n",
       "       [-7.33434510e-01],\n",
       "       [ 9.43709509e-01],\n",
       "       [-7.75081710e-01],\n",
       "       [ 9.41458309e-01],\n",
       "       [-9.22535312e-01],\n",
       "       [-1.35589132e+00],\n",
       "       [ 1.16545271e+00],\n",
       "       [-8.58376111e-01],\n",
       "       [-7.16550509e-01],\n",
       "       [-1.26134092e+00],\n",
       "       [-4.28396906e-01],\n",
       "       [-7.16550509e-01],\n",
       "       [-3.95754506e-01],\n",
       "       [-1.09137531e+00],\n",
       "       [ 7.47462992e-02],\n",
       "       [-7.32308910e-01],\n",
       "       [ 2.62721501e-01],\n",
       "       [ 4.75459904e-01],\n",
       "       [-4.61039307e-01],\n",
       "       [-9.20284112e-01],\n",
       "       [-1.01483451e+00],\n",
       "       [-4.79048907e-01],\n",
       "       [-1.09362651e+00],\n",
       "       [-8.08849711e-01],\n",
       "       [ 1.46823911e+00],\n",
       "       [ 1.80591912e+00],\n",
       "       [ 1.04051111e+00],\n",
       "       [ 8.32275107e-01],\n",
       "       [ 3.24629502e-01],\n",
       "       [-2.21286504e-01],\n",
       "       [-1.13228903e-01]])"
      ]
     },
     "execution_count": 61,
     "metadata": {},
     "output_type": "execute_result"
    }
   ],
   "source": [
    "scaler.transform(df[['total_bill']]) #It will apply z score formula dn standarize datapoints in data"
   ]
  },
  {
   "cell_type": "code",
   "execution_count": 66,
   "id": "a6146255-096a-4081-bcd6-89dd4636b22c",
   "metadata": {},
   "outputs": [],
   "source": [
    "import pandas as pd\n",
    "df=pd.DataFrame(scaler.fit_transform(df[['total_bill']]))#Same but shortcut formula"
   ]
  },
  {
   "cell_type": "code",
   "execution_count": 70,
   "id": "7a1de318-6440-46cc-9121-0ef969c5a4e9",
   "metadata": {},
   "outputs": [
    {
     "data": {
      "text/html": [
       "<div>\n",
       "<style scoped>\n",
       "    .dataframe tbody tr th:only-of-type {\n",
       "        vertical-align: middle;\n",
       "    }\n",
       "\n",
       "    .dataframe tbody tr th {\n",
       "        vertical-align: top;\n",
       "    }\n",
       "\n",
       "    .dataframe thead th {\n",
       "        text-align: right;\n",
       "    }\n",
       "</style>\n",
       "<table border=\"1\" class=\"dataframe\">\n",
       "  <thead>\n",
       "    <tr style=\"text-align: right;\">\n",
       "      <th></th>\n",
       "      <th>0</th>\n",
       "    </tr>\n",
       "  </thead>\n",
       "  <tbody>\n",
       "    <tr>\n",
       "      <th>0</th>\n",
       "      <td>-0.314711</td>\n",
       "    </tr>\n",
       "    <tr>\n",
       "      <th>1</th>\n",
       "      <td>-1.063235</td>\n",
       "    </tr>\n",
       "    <tr>\n",
       "      <th>2</th>\n",
       "      <td>0.137780</td>\n",
       "    </tr>\n",
       "    <tr>\n",
       "      <th>3</th>\n",
       "      <td>0.438315</td>\n",
       "    </tr>\n",
       "    <tr>\n",
       "      <th>4</th>\n",
       "      <td>0.540745</td>\n",
       "    </tr>\n",
       "    <tr>\n",
       "      <th>...</th>\n",
       "      <td>...</td>\n",
       "    </tr>\n",
       "    <tr>\n",
       "      <th>239</th>\n",
       "      <td>1.040511</td>\n",
       "    </tr>\n",
       "    <tr>\n",
       "      <th>240</th>\n",
       "      <td>0.832275</td>\n",
       "    </tr>\n",
       "    <tr>\n",
       "      <th>241</th>\n",
       "      <td>0.324630</td>\n",
       "    </tr>\n",
       "    <tr>\n",
       "      <th>242</th>\n",
       "      <td>-0.221287</td>\n",
       "    </tr>\n",
       "    <tr>\n",
       "      <th>243</th>\n",
       "      <td>-0.113229</td>\n",
       "    </tr>\n",
       "  </tbody>\n",
       "</table>\n",
       "<p>244 rows × 1 columns</p>\n",
       "</div>"
      ],
      "text/plain": [
       "            0\n",
       "0   -0.314711\n",
       "1   -1.063235\n",
       "2    0.137780\n",
       "3    0.438315\n",
       "4    0.540745\n",
       "..        ...\n",
       "239  1.040511\n",
       "240  0.832275\n",
       "241  0.324630\n",
       "242 -0.221287\n",
       "243 -0.113229\n",
       "\n",
       "[244 rows x 1 columns]"
      ]
     },
     "execution_count": 70,
     "metadata": {},
     "output_type": "execute_result"
    }
   ],
   "source": [
    "df"
   ]
  },
  {
   "cell_type": "code",
   "execution_count": 71,
   "id": "4f0d9279-9b2d-442d-a65e-385e8617d29b",
   "metadata": {},
   "outputs": [
    {
     "data": {
      "text/plain": [
       "<AxesSubplot: xlabel='0', ylabel='Count'>"
      ]
     },
     "execution_count": 71,
     "metadata": {},
     "output_type": "execute_result"
    },
    {
     "data": {
      "image/png": "[encoded data removed]",
      "text/plain": [
       "<Figure size 640x480 with 1 Axes>"
      ]
     },
     "metadata": {},
     "output_type": "display_data"
    }
   ],
   "source": [
    "sns.histplot(df[0],kde=True)"
   ]
  },
  {
   "cell_type": "code",
   "execution_count": 72,
   "id": "72fab736-3344-453f-b840-f095ebdfcc98",
   "metadata": {},
   "outputs": [],
   "source": [
    "#Can also do for multiple featur"
   ]
  },
  {
   "cell_type": "code",
   "execution_count": 77,
   "id": "78e62a29-c51f-433b-b33f-526a8ac69ab6",
   "metadata": {},
   "outputs": [],
   "source": [
    "import pandas as pd\n",
    "df=pd.DataFrame(scaler.fit_transform(df[['total_bill','tip']]))#Same but shortcut formula"
   ]
  },
  {
   "cell_type": "code",
   "execution_count": 78,
   "id": "f0c5d4ce-c06a-44e4-8754-443324c55726",
   "metadata": {},
   "outputs": [
    {
     "data": {
      "text/html": [
       "<div>\n",
       "<style scoped>\n",
       "    .dataframe tbody tr th:only-of-type {\n",
       "        vertical-align: middle;\n",
       "    }\n",
       "\n",
       "    .dataframe tbody tr th {\n",
       "        vertical-align: top;\n",
       "    }\n",
       "\n",
       "    .dataframe thead th {\n",
       "        text-align: right;\n",
       "    }\n",
       "</style>\n",
       "<table border=\"1\" class=\"dataframe\">\n",
       "  <thead>\n",
       "    <tr style=\"text-align: right;\">\n",
       "      <th></th>\n",
       "      <th>0</th>\n",
       "      <th>1</th>\n",
       "    </tr>\n",
       "  </thead>\n",
       "  <tbody>\n",
       "    <tr>\n",
       "      <th>0</th>\n",
       "      <td>-0.314711</td>\n",
       "      <td>-1.439947</td>\n",
       "    </tr>\n",
       "    <tr>\n",
       "      <th>1</th>\n",
       "      <td>-1.063235</td>\n",
       "      <td>-0.969205</td>\n",
       "    </tr>\n",
       "    <tr>\n",
       "      <th>2</th>\n",
       "      <td>0.137780</td>\n",
       "      <td>0.363356</td>\n",
       "    </tr>\n",
       "    <tr>\n",
       "      <th>3</th>\n",
       "      <td>0.438315</td>\n",
       "      <td>0.225754</td>\n",
       "    </tr>\n",
       "    <tr>\n",
       "      <th>4</th>\n",
       "      <td>0.540745</td>\n",
       "      <td>0.443020</td>\n",
       "    </tr>\n",
       "    <tr>\n",
       "      <th>...</th>\n",
       "      <td>...</td>\n",
       "      <td>...</td>\n",
       "    </tr>\n",
       "    <tr>\n",
       "      <th>239</th>\n",
       "      <td>1.040511</td>\n",
       "      <td>2.115963</td>\n",
       "    </tr>\n",
       "    <tr>\n",
       "      <th>240</th>\n",
       "      <td>0.832275</td>\n",
       "      <td>-0.722971</td>\n",
       "    </tr>\n",
       "    <tr>\n",
       "      <th>241</th>\n",
       "      <td>0.324630</td>\n",
       "      <td>-0.722971</td>\n",
       "    </tr>\n",
       "    <tr>\n",
       "      <th>242</th>\n",
       "      <td>-0.221287</td>\n",
       "      <td>-0.904026</td>\n",
       "    </tr>\n",
       "    <tr>\n",
       "      <th>243</th>\n",
       "      <td>-0.113229</td>\n",
       "      <td>0.001247</td>\n",
       "    </tr>\n",
       "  </tbody>\n",
       "</table>\n",
       "<p>244 rows × 2 columns</p>\n",
       "</div>"
      ],
      "text/plain": [
       "            0         1\n",
       "0   -0.314711 -1.439947\n",
       "1   -1.063235 -0.969205\n",
       "2    0.137780  0.363356\n",
       "3    0.438315  0.225754\n",
       "4    0.540745  0.443020\n",
       "..        ...       ...\n",
       "239  1.040511  2.115963\n",
       "240  0.832275 -0.722971\n",
       "241  0.324630 -0.722971\n",
       "242 -0.221287 -0.904026\n",
       "243 -0.113229  0.001247\n",
       "\n",
       "[244 rows x 2 columns]"
      ]
     },
     "execution_count": 78,
     "metadata": {},
     "output_type": "execute_result"
    }
   ],
   "source": [
    "df"
   ]
  },
  {
   "cell_type": "code",
   "execution_count": 79,
   "id": "f25d4f95-ba02-4d02-93c1-2c43257b5964",
   "metadata": {},
   "outputs": [
    {
     "data": {
      "text/plain": [
       "<AxesSubplot: xlabel='1', ylabel='Count'>"
      ]
     },
     "execution_count": 79,
     "metadata": {},
     "output_type": "execute_result"
    },
    {
     "data": {
      "image/png": "[encoded data removed]",
      "text/plain": [
       "<Figure size 640x480 with 1 Axes>"
      ]
     },
     "metadata": {},
     "output_type": "display_data"
    }
   ],
   "source": [
    "sns.histplot(df[1],kde=True)"
   ]
  },
  {
   "cell_type": "code",
   "execution_count": 80,
   "id": "a66c0671-a639-4c83-ab61-aa4298dc19b6",
   "metadata": {},
   "outputs": [
    {
     "data": {
      "text/plain": [
       "<AxesSubplot: xlabel='0', ylabel='Count'>"
      ]
     },
     "execution_count": 80,
     "metadata": {},
     "output_type": "execute_result"
    },
    {
     "data": {
      "image/png": "[encoded data removed]",
      "text/plain": [
       "<Figure size 640x480 with 1 Axes>"
      ]
     },
     "metadata": {},
     "output_type": "display_data"
    }
   ],
   "source": [
    "sns.histplot(df[0],kde=True)"
   ]
  },
  {
   "cell_type": "markdown",
   "id": "e0a2201c-2086-4426-9378-3307bf6db8d3",
   "metadata": {},
   "source": [
    "#### 2)Normalization Min Max Scaler"
   ]
  },
  {
   "cell_type": "code",
   "execution_count": 133,
   "id": "aeb41387-7d50-42d7-9f23-60138a5fabe2",
   "metadata": {},
   "outputs": [],
   "source": [
    "df=sns.load_dataset('taxis')"
   ]
  },
  {
   "cell_type": "code",
   "execution_count": 134,
   "id": "b7358471-56ad-476a-8a34-17e2710599f8",
   "metadata": {},
   "outputs": [
    {
     "data": {
      "text/html": [
       "<div>\n",
       "<style scoped>\n",
       "    .dataframe tbody tr th:only-of-type {\n",
       "        vertical-align: middle;\n",
       "    }\n",
       "\n",
       "    .dataframe tbody tr th {\n",
       "        vertical-align: top;\n",
       "    }\n",
       "\n",
       "    .dataframe thead th {\n",
       "        text-align: right;\n",
       "    }\n",
       "</style>\n",
       "<table border=\"1\" class=\"dataframe\">\n",
       "  <thead>\n",
       "    <tr style=\"text-align: right;\">\n",
       "      <th></th>\n",
       "      <th>pickup</th>\n",
       "      <th>dropoff</th>\n",
       "      <th>passengers</th>\n",
       "      <th>distance</th>\n",
       "      <th>fare</th>\n",
       "      <th>tip</th>\n",
       "      <th>tolls</th>\n",
       "      <th>total</th>\n",
       "      <th>color</th>\n",
       "      <th>payment</th>\n",
       "      <th>pickup_zone</th>\n",
       "      <th>dropoff_zone</th>\n",
       "      <th>pickup_borough</th>\n",
       "      <th>dropoff_borough</th>\n",
       "    </tr>\n",
       "  </thead>\n",
       "  <tbody>\n",
       "    <tr>\n",
       "      <th>0</th>\n",
       "      <td>2019-03-23 20:21:09</td>\n",
       "      <td>2019-03-23 20:27:24</td>\n",
       "      <td>1</td>\n",
       "      <td>1.60</td>\n",
       "      <td>7.0</td>\n",
       "      <td>2.15</td>\n",
       "      <td>0.0</td>\n",
       "      <td>12.95</td>\n",
       "      <td>yellow</td>\n",
       "      <td>credit card</td>\n",
       "      <td>Lenox Hill West</td>\n",
       "      <td>UN/Turtle Bay South</td>\n",
       "      <td>Manhattan</td>\n",
       "      <td>Manhattan</td>\n",
       "    </tr>\n",
       "    <tr>\n",
       "      <th>1</th>\n",
       "      <td>2019-03-04 16:11:55</td>\n",
       "      <td>2019-03-04 16:19:00</td>\n",
       "      <td>1</td>\n",
       "      <td>0.79</td>\n",
       "      <td>5.0</td>\n",
       "      <td>0.00</td>\n",
       "      <td>0.0</td>\n",
       "      <td>9.30</td>\n",
       "      <td>yellow</td>\n",
       "      <td>cash</td>\n",
       "      <td>Upper West Side South</td>\n",
       "      <td>Upper West Side South</td>\n",
       "      <td>Manhattan</td>\n",
       "      <td>Manhattan</td>\n",
       "    </tr>\n",
       "    <tr>\n",
       "      <th>2</th>\n",
       "      <td>2019-03-27 17:53:01</td>\n",
       "      <td>2019-03-27 18:00:25</td>\n",
       "      <td>1</td>\n",
       "      <td>1.37</td>\n",
       "      <td>7.5</td>\n",
       "      <td>2.36</td>\n",
       "      <td>0.0</td>\n",
       "      <td>14.16</td>\n",
       "      <td>yellow</td>\n",
       "      <td>credit card</td>\n",
       "      <td>Alphabet City</td>\n",
       "      <td>West Village</td>\n",
       "      <td>Manhattan</td>\n",
       "      <td>Manhattan</td>\n",
       "    </tr>\n",
       "    <tr>\n",
       "      <th>3</th>\n",
       "      <td>2019-03-10 01:23:59</td>\n",
       "      <td>2019-03-10 01:49:51</td>\n",
       "      <td>1</td>\n",
       "      <td>7.70</td>\n",
       "      <td>27.0</td>\n",
       "      <td>6.15</td>\n",
       "      <td>0.0</td>\n",
       "      <td>36.95</td>\n",
       "      <td>yellow</td>\n",
       "      <td>credit card</td>\n",
       "      <td>Hudson Sq</td>\n",
       "      <td>Yorkville West</td>\n",
       "      <td>Manhattan</td>\n",
       "      <td>Manhattan</td>\n",
       "    </tr>\n",
       "    <tr>\n",
       "      <th>4</th>\n",
       "      <td>2019-03-30 13:27:42</td>\n",
       "      <td>2019-03-30 13:37:14</td>\n",
       "      <td>3</td>\n",
       "      <td>2.16</td>\n",
       "      <td>9.0</td>\n",
       "      <td>1.10</td>\n",
       "      <td>0.0</td>\n",
       "      <td>13.40</td>\n",
       "      <td>yellow</td>\n",
       "      <td>credit card</td>\n",
       "      <td>Midtown East</td>\n",
       "      <td>Yorkville West</td>\n",
       "      <td>Manhattan</td>\n",
       "      <td>Manhattan</td>\n",
       "    </tr>\n",
       "  </tbody>\n",
       "</table>\n",
       "</div>"
      ],
      "text/plain": [
       "               pickup             dropoff  passengers  distance  fare   tip  \\\n",
       "0 2019-03-23 20:21:09 2019-03-23 20:27:24           1      1.60   7.0  2.15   \n",
       "1 2019-03-04 16:11:55 2019-03-04 16:19:00           1      0.79   5.0  0.00   \n",
       "2 2019-03-27 17:53:01 2019-03-27 18:00:25           1      1.37   7.5  2.36   \n",
       "3 2019-03-10 01:23:59 2019-03-10 01:49:51           1      7.70  27.0  6.15   \n",
       "4 2019-03-30 13:27:42 2019-03-30 13:37:14           3      2.16   9.0  1.10   \n",
       "\n",
       "   tolls  total   color      payment            pickup_zone  \\\n",
       "0    0.0  12.95  yellow  credit card        Lenox Hill West   \n",
       "1    0.0   9.30  yellow         cash  Upper West Side South   \n",
       "2    0.0  14.16  yellow  credit card          Alphabet City   \n",
       "3    0.0  36.95  yellow  credit card              Hudson Sq   \n",
       "4    0.0  13.40  yellow  credit card           Midtown East   \n",
       "\n",
       "            dropoff_zone pickup_borough dropoff_borough  \n",
       "0    UN/Turtle Bay South      Manhattan       Manhattan  \n",
       "1  Upper West Side South      Manhattan       Manhattan  \n",
       "2           West Village      Manhattan       Manhattan  \n",
       "3         Yorkville West      Manhattan       Manhattan  \n",
       "4         Yorkville West      Manhattan       Manhattan  "
      ]
     },
     "execution_count": 134,
     "metadata": {},
     "output_type": "execute_result"
    }
   ],
   "source": [
    "df.head()"
   ]
  },
  {
   "cell_type": "code",
   "execution_count": 91,
   "id": "c55e2c1f-db24-4c46-97b0-5506b3f733b7",
   "metadata": {},
   "outputs": [],
   "source": [
    "from sklearn.preprocessing import MinMaxScaler"
   ]
  },
  {
   "cell_type": "code",
   "execution_count": 92,
   "id": "7b3f5d39-dc76-46d4-8cfb-4e0b6815566e",
   "metadata": {},
   "outputs": [],
   "source": [
    "min_max=MinMaxScaler()"
   ]
  },
  {
   "cell_type": "code",
   "execution_count": 95,
   "id": "1ac216f3-d0ca-4306-a1c6-46fc3d002e58",
   "metadata": {},
   "outputs": [],
   "source": [
    "arr=min_max.fit_transform(df[['distance','fare','tip']])"
   ]
  },
  {
   "cell_type": "code",
   "execution_count": 96,
   "id": "71977459-8bc0-48d1-b936-33a4dd94affe",
   "metadata": {},
   "outputs": [],
   "source": [
    "import pandas as pd\n",
    "df=pd.DataFrame(arr)"
   ]
  },
  {
   "cell_type": "code",
   "execution_count": 97,
   "id": "5c343b7c-6457-4e5b-9fb4-85a1d0823cbe",
   "metadata": {},
   "outputs": [
    {
     "data": {
      "text/html": [
       "<div>\n",
       "<style scoped>\n",
       "    .dataframe tbody tr th:only-of-type {\n",
       "        vertical-align: middle;\n",
       "    }\n",
       "\n",
       "    .dataframe tbody tr th {\n",
       "        vertical-align: top;\n",
       "    }\n",
       "\n",
       "    .dataframe thead th {\n",
       "        text-align: right;\n",
       "    }\n",
       "</style>\n",
       "<table border=\"1\" class=\"dataframe\">\n",
       "  <thead>\n",
       "    <tr style=\"text-align: right;\">\n",
       "      <th></th>\n",
       "      <th>0</th>\n",
       "      <th>1</th>\n",
       "      <th>2</th>\n",
       "    </tr>\n",
       "  </thead>\n",
       "  <tbody>\n",
       "    <tr>\n",
       "      <th>0</th>\n",
       "      <td>0.043597</td>\n",
       "      <td>0.040268</td>\n",
       "      <td>0.064759</td>\n",
       "    </tr>\n",
       "    <tr>\n",
       "      <th>1</th>\n",
       "      <td>0.021526</td>\n",
       "      <td>0.026846</td>\n",
       "      <td>0.000000</td>\n",
       "    </tr>\n",
       "    <tr>\n",
       "      <th>2</th>\n",
       "      <td>0.037330</td>\n",
       "      <td>0.043624</td>\n",
       "      <td>0.071084</td>\n",
       "    </tr>\n",
       "    <tr>\n",
       "      <th>3</th>\n",
       "      <td>0.209809</td>\n",
       "      <td>0.174497</td>\n",
       "      <td>0.185241</td>\n",
       "    </tr>\n",
       "    <tr>\n",
       "      <th>4</th>\n",
       "      <td>0.058856</td>\n",
       "      <td>0.053691</td>\n",
       "      <td>0.033133</td>\n",
       "    </tr>\n",
       "    <tr>\n",
       "      <th>...</th>\n",
       "      <td>...</td>\n",
       "      <td>...</td>\n",
       "      <td>...</td>\n",
       "    </tr>\n",
       "    <tr>\n",
       "      <th>6428</th>\n",
       "      <td>0.020436</td>\n",
       "      <td>0.023490</td>\n",
       "      <td>0.031928</td>\n",
       "    </tr>\n",
       "    <tr>\n",
       "      <th>6429</th>\n",
       "      <td>0.510627</td>\n",
       "      <td>0.382550</td>\n",
       "      <td>0.000000</td>\n",
       "    </tr>\n",
       "    <tr>\n",
       "      <th>6430</th>\n",
       "      <td>0.112807</td>\n",
       "      <td>0.100671</td>\n",
       "      <td>0.000000</td>\n",
       "    </tr>\n",
       "    <tr>\n",
       "      <th>6431</th>\n",
       "      <td>0.030518</td>\n",
       "      <td>0.033557</td>\n",
       "      <td>0.000000</td>\n",
       "    </tr>\n",
       "    <tr>\n",
       "      <th>6432</th>\n",
       "      <td>0.104905</td>\n",
       "      <td>0.093960</td>\n",
       "      <td>0.101205</td>\n",
       "    </tr>\n",
       "  </tbody>\n",
       "</table>\n",
       "<p>6433 rows × 3 columns</p>\n",
       "</div>"
      ],
      "text/plain": [
       "             0         1         2\n",
       "0     0.043597  0.040268  0.064759\n",
       "1     0.021526  0.026846  0.000000\n",
       "2     0.037330  0.043624  0.071084\n",
       "3     0.209809  0.174497  0.185241\n",
       "4     0.058856  0.053691  0.033133\n",
       "...        ...       ...       ...\n",
       "6428  0.020436  0.023490  0.031928\n",
       "6429  0.510627  0.382550  0.000000\n",
       "6430  0.112807  0.100671  0.000000\n",
       "6431  0.030518  0.033557  0.000000\n",
       "6432  0.104905  0.093960  0.101205\n",
       "\n",
       "[6433 rows x 3 columns]"
      ]
     },
     "execution_count": 97,
     "metadata": {},
     "output_type": "execute_result"
    }
   ],
   "source": [
    "df"
   ]
  },
  {
   "cell_type": "code",
   "execution_count": 100,
   "id": "68b3a82e-bca5-43f4-9791-c8921b1b0a40",
   "metadata": {},
   "outputs": [
    {
     "data": {
      "text/plain": [
       "<AxesSubplot: xlabel='0', ylabel='Count'>"
      ]
     },
     "execution_count": 100,
     "metadata": {},
     "output_type": "execute_result"
    },
    {
     "data": {
      "image/png": "[encoded data removed]",
      "text/plain": [
       "<Figure size 640x480 with 1 Axes>"
      ]
     },
     "metadata": {},
     "output_type": "display_data"
    }
   ],
   "source": [
    "sns.histplot(df[0],kde=True)"
   ]
  },
  {
   "cell_type": "code",
   "execution_count": 102,
   "id": "feb9f837-c5d7-4fea-a6c2-7e8d460a5631",
   "metadata": {},
   "outputs": [
    {
     "data": {
      "text/plain": [
       "<AxesSubplot: xlabel='1', ylabel='Count'>"
      ]
     },
     "execution_count": 102,
     "metadata": {},
     "output_type": "execute_result"
    },
    {
     "data": {
      "image/png": "[encoded data removed]",
      "text/plain": [
       "<Figure size 640x480 with 1 Axes>"
      ]
     },
     "metadata": {},
     "output_type": "display_data"
    }
   ],
   "source": [
    "sns.histplot(df[1],kde=True)"
   ]
  },
  {
   "cell_type": "code",
   "execution_count": 103,
   "id": "c95f9d25-95ac-4964-896d-94b00eeff276",
   "metadata": {},
   "outputs": [
    {
     "data": {
      "text/plain": [
       "<AxesSubplot: xlabel='2', ylabel='Count'>"
      ]
     },
     "execution_count": 103,
     "metadata": {},
     "output_type": "execute_result"
    },
    {
     "data": {
      "image/png": "[encoded data removed]",
      "text/plain": [
       "<Figure size 640x480 with 1 Axes>"
      ]
     },
     "metadata": {},
     "output_type": "display_data"
    }
   ],
   "source": [
    "sns.histplot(df[2],kde=True)"
   ]
  },
  {
   "cell_type": "markdown",
   "id": "ff7884b8-f290-4914-8974-6ee71b096e33",
   "metadata": {},
   "source": [
    "#### 3)Unit Vector"
   ]
  },
  {
   "cell_type": "code",
   "execution_count": 126,
   "id": "f17cf05f-e483-4f61-a21c-3addd5e186b5",
   "metadata": {},
   "outputs": [],
   "source": [
    "from sklearn.preprocessing import Normalizer"
   ]
  },
  {
   "cell_type": "code",
   "execution_count": 132,
   "id": "460d5daf-45b1-410f-a4ff-f63bec011867",
   "metadata": {},
   "outputs": [],
   "source": [
    "scaler=Normalizer()"
   ]
  },
  {
   "cell_type": "code",
   "execution_count": 139,
   "id": "589cc880-8212-4c84-b8e8-5b79f79dd206",
   "metadata": {},
   "outputs": [],
   "source": [
    "arr=scaler.fit_transform(df[['distance','fare','tip']])"
   ]
  },
  {
   "cell_type": "code",
   "execution_count": 142,
   "id": "20f85431-160e-446c-9892-d14db955ad7f",
   "metadata": {},
   "outputs": [],
   "source": [
    "import pandas as pd\n",
    "df=pd.DataFrame(arr)"
   ]
  },
  {
   "cell_type": "code",
   "execution_count": 147,
   "id": "5ee1a2fd-85f9-41ac-a796-f510ff4fcbbc",
   "metadata": {},
   "outputs": [
    {
     "data": {
      "text/html": [
       "<div>\n",
       "<style scoped>\n",
       "    .dataframe tbody tr th:only-of-type {\n",
       "        vertical-align: middle;\n",
       "    }\n",
       "\n",
       "    .dataframe tbody tr th {\n",
       "        vertical-align: top;\n",
       "    }\n",
       "\n",
       "    .dataframe thead th {\n",
       "        text-align: right;\n",
       "    }\n",
       "</style>\n",
       "<table border=\"1\" class=\"dataframe\">\n",
       "  <thead>\n",
       "    <tr style=\"text-align: right;\">\n",
       "      <th></th>\n",
       "      <th>0</th>\n",
       "      <th>1</th>\n",
       "      <th>2</th>\n",
       "    </tr>\n",
       "  </thead>\n",
       "  <tbody>\n",
       "    <tr>\n",
       "      <th>0</th>\n",
       "      <td>0.213461</td>\n",
       "      <td>0.933894</td>\n",
       "      <td>0.286839</td>\n",
       "    </tr>\n",
       "    <tr>\n",
       "      <th>1</th>\n",
       "      <td>0.156064</td>\n",
       "      <td>0.987747</td>\n",
       "      <td>0.000000</td>\n",
       "    </tr>\n",
       "    <tr>\n",
       "      <th>2</th>\n",
       "      <td>0.171657</td>\n",
       "      <td>0.939731</td>\n",
       "      <td>0.295702</td>\n",
       "    </tr>\n",
       "    <tr>\n",
       "      <th>3</th>\n",
       "      <td>0.267899</td>\n",
       "      <td>0.939386</td>\n",
       "      <td>0.213971</td>\n",
       "    </tr>\n",
       "    <tr>\n",
       "      <th>4</th>\n",
       "      <td>0.231742</td>\n",
       "      <td>0.965592</td>\n",
       "      <td>0.118017</td>\n",
       "    </tr>\n",
       "    <tr>\n",
       "      <th>...</th>\n",
       "      <td>...</td>\n",
       "      <td>...</td>\n",
       "      <td>...</td>\n",
       "    </tr>\n",
       "    <tr>\n",
       "      <th>6428</th>\n",
       "      <td>0.160133</td>\n",
       "      <td>0.960800</td>\n",
       "      <td>0.226322</td>\n",
       "    </tr>\n",
       "    <tr>\n",
       "      <th>6429</th>\n",
       "      <td>0.307453</td>\n",
       "      <td>0.951563</td>\n",
       "      <td>0.000000</td>\n",
       "    </tr>\n",
       "    <tr>\n",
       "      <th>6430</th>\n",
       "      <td>0.250500</td>\n",
       "      <td>0.968117</td>\n",
       "      <td>0.000000</td>\n",
       "    </tr>\n",
       "    <tr>\n",
       "      <th>6431</th>\n",
       "      <td>0.183497</td>\n",
       "      <td>0.983020</td>\n",
       "      <td>0.000000</td>\n",
       "    </tr>\n",
       "    <tr>\n",
       "      <th>6432</th>\n",
       "      <td>0.242956</td>\n",
       "      <td>0.946580</td>\n",
       "      <td>0.212034</td>\n",
       "    </tr>\n",
       "  </tbody>\n",
       "</table>\n",
       "<p>6433 rows × 3 columns</p>\n",
       "</div>"
      ],
      "text/plain": [
       "             0         1         2\n",
       "0     0.213461  0.933894  0.286839\n",
       "1     0.156064  0.987747  0.000000\n",
       "2     0.171657  0.939731  0.295702\n",
       "3     0.267899  0.939386  0.213971\n",
       "4     0.231742  0.965592  0.118017\n",
       "...        ...       ...       ...\n",
       "6428  0.160133  0.960800  0.226322\n",
       "6429  0.307453  0.951563  0.000000\n",
       "6430  0.250500  0.968117  0.000000\n",
       "6431  0.183497  0.983020  0.000000\n",
       "6432  0.242956  0.946580  0.212034\n",
       "\n",
       "[6433 rows x 3 columns]"
      ]
     },
     "execution_count": 147,
     "metadata": {},
     "output_type": "execute_result"
    }
   ],
   "source": [
    "df #Here we can see if we calculate unit vector for 3 selected features (0,1,2) then we will always get magnitude as 1 in such way they are normalize"
   ]
  },
  {
   "cell_type": "code",
   "execution_count": 145,
   "id": "4072a4d3-5ae6-4f44-b13d-d9e7a455fef6",
   "metadata": {},
   "outputs": [
    {
     "data": {
      "text/plain": [
       "<AxesSubplot: xlabel='0', ylabel='Count'>"
      ]
     },
     "execution_count": 145,
     "metadata": {},
     "output_type": "execute_result"
    },
    {
     "data": {
      "image/png": "[encoded data removed]",
      "text/plain": [
       "<Figure size 640x480 with 1 Axes>"
      ]
     },
     "metadata": {},
     "output_type": "display_data"
    }
   ],
   "source": [
    "sns.histplot(df[0],kde=True)"
   ]
  },
  {
   "cell_type": "code",
   "execution_count": 121,
   "id": "f2b44dcc-cfb4-4663-91c1-4c57a16a7ffd",
   "metadata": {},
   "outputs": [
    {
     "data": {
      "text/plain": [
       "<AxesSubplot: xlabel='1', ylabel='Count'>"
      ]
     },
     "execution_count": 121,
     "metadata": {},
     "output_type": "execute_result"
    },
    {
     "data": {
      "image/png": "[encoded data removed]",
      "text/plain": [
       "<Figure size 640x480 with 1 Axes>"
      ]
     },
     "metadata": {},
     "output_type": "display_data"
    }
   ],
   "source": [
    "sns.histplot(df[1],kde=True)"
   ]
  },
  {
   "cell_type": "code",
   "execution_count": 144,
   "id": "8b29a4fc-09fe-4f3c-a24c-7a2fc1ce9439",
   "metadata": {},
   "outputs": [
    {
     "data": {
      "text/plain": [
       "<AxesSubplot: xlabel='2', ylabel='Count'>"
      ]
     },
     "execution_count": 144,
     "metadata": {},
     "output_type": "execute_result"
    },
    {
     "data": {
      "image/png": "[encoded data removed]",
      "text/plain": [
       "<Figure size 640x480 with 1 Axes>"
      ]
     },
     "metadata": {},
     "output_type": "display_data"
    }
   ],
   "source": [
    "sns.histplot(df[2],kde=True)"
   ]
  },
  {
   "cell_type": "markdown",
   "id": "5c30461f-cf58-45ea-829d-ef2c8a732eae",
   "metadata": {},
   "source": [
    "#### Principle Component Analysis (PCA)"
   ]
  },
  {
   "cell_type": "code",
   "execution_count": 149,
   "id": "8a7eed52-748b-4180-aaeb-4e7620acd174",
   "metadata": {},
   "outputs": [
    {
     "data": {
      "text/html": [
       "<div>\n",
       "<style scoped>\n",
       "    .dataframe tbody tr th:only-of-type {\n",
       "        vertical-align: middle;\n",
       "    }\n",
       "\n",
       "    .dataframe tbody tr th {\n",
       "        vertical-align: top;\n",
       "    }\n",
       "\n",
       "    .dataframe thead th {\n",
       "        text-align: right;\n",
       "    }\n",
       "</style>\n",
       "<table border=\"1\" class=\"dataframe\">\n",
       "  <thead>\n",
       "    <tr style=\"text-align: right;\">\n",
       "      <th></th>\n",
       "      <th>sepal length (cm)</th>\n",
       "      <th>sepal width (cm)</th>\n",
       "      <th>petal length (cm)</th>\n",
       "      <th>petal width (cm)</th>\n",
       "    </tr>\n",
       "  </thead>\n",
       "  <tbody>\n",
       "    <tr>\n",
       "      <th>0</th>\n",
       "      <td>5.1</td>\n",
       "      <td>3.5</td>\n",
       "      <td>1.4</td>\n",
       "      <td>0.2</td>\n",
       "    </tr>\n",
       "    <tr>\n",
       "      <th>1</th>\n",
       "      <td>4.9</td>\n",
       "      <td>3.0</td>\n",
       "      <td>1.4</td>\n",
       "      <td>0.2</td>\n",
       "    </tr>\n",
       "    <tr>\n",
       "      <th>2</th>\n",
       "      <td>4.7</td>\n",
       "      <td>3.2</td>\n",
       "      <td>1.3</td>\n",
       "      <td>0.2</td>\n",
       "    </tr>\n",
       "    <tr>\n",
       "      <th>3</th>\n",
       "      <td>4.6</td>\n",
       "      <td>3.1</td>\n",
       "      <td>1.5</td>\n",
       "      <td>0.2</td>\n",
       "    </tr>\n",
       "    <tr>\n",
       "      <th>4</th>\n",
       "      <td>5.0</td>\n",
       "      <td>3.6</td>\n",
       "      <td>1.4</td>\n",
       "      <td>0.2</td>\n",
       "    </tr>\n",
       "    <tr>\n",
       "      <th>...</th>\n",
       "      <td>...</td>\n",
       "      <td>...</td>\n",
       "      <td>...</td>\n",
       "      <td>...</td>\n",
       "    </tr>\n",
       "    <tr>\n",
       "      <th>145</th>\n",
       "      <td>6.7</td>\n",
       "      <td>3.0</td>\n",
       "      <td>5.2</td>\n",
       "      <td>2.3</td>\n",
       "    </tr>\n",
       "    <tr>\n",
       "      <th>146</th>\n",
       "      <td>6.3</td>\n",
       "      <td>2.5</td>\n",
       "      <td>5.0</td>\n",
       "      <td>1.9</td>\n",
       "    </tr>\n",
       "    <tr>\n",
       "      <th>147</th>\n",
       "      <td>6.5</td>\n",
       "      <td>3.0</td>\n",
       "      <td>5.2</td>\n",
       "      <td>2.0</td>\n",
       "    </tr>\n",
       "    <tr>\n",
       "      <th>148</th>\n",
       "      <td>6.2</td>\n",
       "      <td>3.4</td>\n",
       "      <td>5.4</td>\n",
       "      <td>2.3</td>\n",
       "    </tr>\n",
       "    <tr>\n",
       "      <th>149</th>\n",
       "      <td>5.9</td>\n",
       "      <td>3.0</td>\n",
       "      <td>5.1</td>\n",
       "      <td>1.8</td>\n",
       "    </tr>\n",
       "  </tbody>\n",
       "</table>\n",
       "<p>150 rows × 4 columns</p>\n",
       "</div>"
      ],
      "text/plain": [
       "     sepal length (cm)  sepal width (cm)  petal length (cm)  petal width (cm)\n",
       "0                  5.1               3.5                1.4               0.2\n",
       "1                  4.9               3.0                1.4               0.2\n",
       "2                  4.7               3.2                1.3               0.2\n",
       "3                  4.6               3.1                1.5               0.2\n",
       "4                  5.0               3.6                1.4               0.2\n",
       "..                 ...               ...                ...               ...\n",
       "145                6.7               3.0                5.2               2.3\n",
       "146                6.3               2.5                5.0               1.9\n",
       "147                6.5               3.0                5.2               2.0\n",
       "148                6.2               3.4                5.4               2.3\n",
       "149                5.9               3.0                5.1               1.8\n",
       "\n",
       "[150 rows x 4 columns]"
      ]
     },
     "execution_count": 149,
     "metadata": {},
     "output_type": "execute_result"
    }
   ],
   "source": [
    "df"
   ]
  },
  {
   "cell_type": "code",
   "execution_count": 148,
   "id": "b747e375-f6ce-48b2-89cf-6ad909c2c9f3",
   "metadata": {},
   "outputs": [
    {
     "name": "stdout",
     "output_type": "stream",
     "text": [
      "[[-2.68412563  0.31939725]\n",
      " [-2.71414169 -0.17700123]\n",
      " [-2.88899057 -0.14494943]\n",
      " [-2.74534286 -0.31829898]\n",
      " [-2.72871654  0.32675451]\n",
      " [-2.28085963  0.74133045]\n",
      " [-2.82053775 -0.08946138]\n",
      " [-2.62614497  0.16338496]\n",
      " [-2.88638273 -0.57831175]\n",
      " [-2.6727558  -0.11377425]\n",
      " [-2.50694709  0.6450689 ]\n",
      " [-2.61275523  0.01472994]\n",
      " [-2.78610927 -0.235112  ]\n",
      " [-3.22380374 -0.51139459]\n",
      " [-2.64475039  1.17876464]\n",
      " [-2.38603903  1.33806233]\n",
      " [-2.62352788  0.81067951]\n",
      " [-2.64829671  0.31184914]\n",
      " [-2.19982032  0.87283904]\n",
      " [-2.5879864   0.51356031]\n",
      " [-2.31025622  0.39134594]\n",
      " [-2.54370523  0.43299606]\n",
      " [-3.21593942  0.13346807]\n",
      " [-2.30273318  0.09870885]\n",
      " [-2.35575405 -0.03728186]\n",
      " [-2.50666891 -0.14601688]\n",
      " [-2.46882007  0.13095149]\n",
      " [-2.56231991  0.36771886]\n",
      " [-2.63953472  0.31203998]\n",
      " [-2.63198939 -0.19696122]\n",
      " [-2.58739848 -0.20431849]\n",
      " [-2.4099325   0.41092426]\n",
      " [-2.64886233  0.81336382]\n",
      " [-2.59873675  1.09314576]\n",
      " [-2.63692688 -0.12132235]\n",
      " [-2.86624165  0.06936447]\n",
      " [-2.62523805  0.59937002]\n",
      " [-2.80068412  0.26864374]\n",
      " [-2.98050204 -0.48795834]\n",
      " [-2.59000631  0.22904384]\n",
      " [-2.77010243  0.26352753]\n",
      " [-2.84936871 -0.94096057]\n",
      " [-2.99740655 -0.34192606]\n",
      " [-2.40561449  0.18887143]\n",
      " [-2.20948924  0.43666314]\n",
      " [-2.71445143 -0.2502082 ]\n",
      " [-2.53814826  0.50377114]\n",
      " [-2.83946217 -0.22794557]\n",
      " [-2.54308575  0.57941002]\n",
      " [-2.70335978  0.10770608]\n",
      " [ 1.28482569  0.68516047]\n",
      " [ 0.93248853  0.31833364]\n",
      " [ 1.46430232  0.50426282]\n",
      " [ 0.18331772 -0.82795901]\n",
      " [ 1.08810326  0.07459068]\n",
      " [ 0.64166908 -0.41824687]\n",
      " [ 1.09506066  0.28346827]\n",
      " [-0.74912267 -1.00489096]\n",
      " [ 1.04413183  0.2283619 ]\n",
      " [-0.0087454  -0.72308191]\n",
      " [-0.50784088 -1.26597119]\n",
      " [ 0.51169856 -0.10398124]\n",
      " [ 0.26497651 -0.55003646]\n",
      " [ 0.98493451 -0.12481785]\n",
      " [-0.17392537 -0.25485421]\n",
      " [ 0.92786078  0.46717949]\n",
      " [ 0.66028376 -0.35296967]\n",
      " [ 0.23610499 -0.33361077]\n",
      " [ 0.94473373 -0.54314555]\n",
      " [ 0.04522698 -0.58383438]\n",
      " [ 1.11628318 -0.08461685]\n",
      " [ 0.35788842 -0.06892503]\n",
      " [ 1.29818388 -0.32778731]\n",
      " [ 0.92172892 -0.18273779]\n",
      " [ 0.71485333  0.14905594]\n",
      " [ 0.90017437  0.32850447]\n",
      " [ 1.33202444  0.24444088]\n",
      " [ 1.55780216  0.26749545]\n",
      " [ 0.81329065 -0.1633503 ]\n",
      " [-0.30558378 -0.36826219]\n",
      " [-0.06812649 -0.70517213]\n",
      " [-0.18962247 -0.68028676]\n",
      " [ 0.13642871 -0.31403244]\n",
      " [ 1.38002644 -0.42095429]\n",
      " [ 0.58800644 -0.48428742]\n",
      " [ 0.80685831  0.19418231]\n",
      " [ 1.22069088  0.40761959]\n",
      " [ 0.81509524 -0.37203706]\n",
      " [ 0.24595768 -0.2685244 ]\n",
      " [ 0.16641322 -0.68192672]\n",
      " [ 0.46480029 -0.67071154]\n",
      " [ 0.8908152  -0.03446444]\n",
      " [ 0.23054802 -0.40438585]\n",
      " [-0.70453176 -1.01224823]\n",
      " [ 0.35698149 -0.50491009]\n",
      " [ 0.33193448 -0.21265468]\n",
      " [ 0.37621565 -0.29321893]\n",
      " [ 0.64257601  0.01773819]\n",
      " [-0.90646986 -0.75609337]\n",
      " [ 0.29900084 -0.34889781]\n",
      " [ 2.53119273 -0.00984911]\n",
      " [ 1.41523588 -0.57491635]\n",
      " [ 2.61667602  0.34390315]\n",
      " [ 1.97153105 -0.1797279 ]\n",
      " [ 2.35000592 -0.04026095]\n",
      " [ 3.39703874  0.55083667]\n",
      " [ 0.52123224 -1.19275873]\n",
      " [ 2.93258707  0.3555    ]\n",
      " [ 2.32122882 -0.2438315 ]\n",
      " [ 2.91675097  0.78279195]\n",
      " [ 1.66177415  0.24222841]\n",
      " [ 1.80340195 -0.21563762]\n",
      " [ 2.1655918   0.21627559]\n",
      " [ 1.34616358 -0.77681835]\n",
      " [ 1.58592822 -0.53964071]\n",
      " [ 1.90445637  0.11925069]\n",
      " [ 1.94968906  0.04194326]\n",
      " [ 3.48705536  1.17573933]\n",
      " [ 3.79564542  0.25732297]\n",
      " [ 1.30079171 -0.76114964]\n",
      " [ 2.42781791  0.37819601]\n",
      " [ 1.19900111 -0.60609153]\n",
      " [ 3.49992004  0.4606741 ]\n",
      " [ 1.38876613 -0.20439933]\n",
      " [ 2.2754305   0.33499061]\n",
      " [ 2.61409047  0.56090136]\n",
      " [ 1.25850816 -0.17970479]\n",
      " [ 1.29113206 -0.11666865]\n",
      " [ 2.12360872 -0.20972948]\n",
      " [ 2.38800302  0.4646398 ]\n",
      " [ 2.84167278  0.37526917]\n",
      " [ 3.23067366  1.37416509]\n",
      " [ 2.15943764 -0.21727758]\n",
      " [ 1.44416124 -0.14341341]\n",
      " [ 1.78129481 -0.49990168]\n",
      " [ 3.07649993  0.68808568]\n",
      " [ 2.14424331  0.1400642 ]\n",
      " [ 1.90509815  0.04930053]\n",
      " [ 1.16932634 -0.16499026]\n",
      " [ 2.10761114  0.37228787]\n",
      " [ 2.31415471  0.18365128]\n",
      " [ 1.9222678   0.40920347]\n",
      " [ 1.41523588 -0.57491635]\n",
      " [ 2.56301338  0.2778626 ]\n",
      " [ 2.41874618  0.3047982 ]\n",
      " [ 1.94410979  0.1875323 ]\n",
      " [ 1.52716661 -0.37531698]\n",
      " [ 1.76434572  0.07885885]\n",
      " [ 1.90094161  0.11662796]\n",
      " [ 1.39018886 -0.28266094]]\n"
     ]
    }
   ],
   "source": [
    "import pandas as pd\n",
    "from sklearn.datasets import load_iris\n",
    "from sklearn.decomposition import PCA\n",
    "\n",
    "# load the iris dataset\n",
    "iris = load_iris()\n",
    "\n",
    "# create a dataframe with the iris data\n",
    "df = pd.DataFrame(data=iris['data'], columns=iris['feature_names'])\n",
    "\n",
    "# initialize the PCA object\n",
    "pca = PCA(n_components=2)\n",
    "\n",
    "# fit and transform the data\n",
    "df_pca = pca.fit_transform(df)\n",
    "\n",
    "# print the transformed data\n",
    "print(df_pca)\n"
   ]
  },
  {
   "cell_type": "code",
   "execution_count": 150,
   "id": "d8bcb26a-aa0f-4380-b18e-410eb7a9edad",
   "metadata": {},
   "outputs": [],
   "source": [
    "#So actually we reduced our data to 2d from 4d\n",
    "#so we can easily visualize and use in ml model"
   ]
  },
  {
   "cell_type": "code",
   "execution_count": null,
   "id": "d6082e87-8b1e-4b69-983f-0a9dea67547b",
   "metadata": {},
   "outputs": [],
   "source": []
  }
 ],
 "metadata": {
  "kernelspec": {
   "display_name": "Python 3 (ipykernel)",
   "language": "python",
   "name": "python3"
  },
  "language_info": {
   "codemirror_mode": {
    "name": "ipython",
    "version": 3
   },
   "file_extension": ".py",
   "mimetype": "text/x-python",
   "name": "python",
   "nbconvert_exporter": "python",
   "pygments_lexer": "ipython3",
   "version": "3.10.8"
  }
 },
 "nbformat": 4,
 "nbformat_minor": 5
}
