{
 "cells": [
  {
   "cell_type": "markdown",
   "id": "65f9c07f-04a7-4115-99ae-56b4f9db1b8a",
   "metadata": {},
   "source": [
    "### DATA ENCODING"
   ]
  },
  {
   "cell_type": "markdown",
   "id": "d60d6b4f-6db1-4b6b-bdf3-91284c278ee2",
   "metadata": {},
   "source": [
    "#### 1)Nominal / One Hot Encoding\n",
    "#### 2)Label and Ordinal Encoding\n",
    "#### 3)Target Guided Ordinal Encoding  "
   ]
  },
  {
   "cell_type": "markdown",
   "id": "8f5b543c-29d0-4833-ad69-e11a74d360cd",
   "metadata": {},
   "source": [
    "#### 1)Nominal / One Hot Encoding"
   ]
  },
  {
   "cell_type": "markdown",
   "id": "ad0eec6e-e97a-4a74-b322-496849c25535",
   "metadata": {},
   "source": [
    "#This method involves creating a binary vector for each category, with a \n",
    "#value of 1 indicating the presence of the category and a value of 0 \n",
    "#indicating the absence of the category. This method works well for \n",
    "#categorical features with a small number of categories."
   ]
  },
  {
   "cell_type": "markdown",
   "id": "c0bfcf5b-f919-486c-89fb-d7e10c7a177f",
   "metadata": {},
   "source": [
    "#One hot encoding, also known as nominal encoding, is a technique used \n",
    "#to represent categorical data as numerical data, which is more suitable \n",
    "#for machine learning algorithms. \n",
    "#In this technique, each category is represented as a binary vector\n",
    "#where each bit corresponds to a unique category. For example, if we \n",
    "#have a categorical variable \"color\" with three possible values \n",
    "#(red, green, blue), we can represent it using one hot encoding as follows:\n",
    "\n",
    "#1. Red: [1, 0, 0]\n",
    "#2. Green: [0, 1, 0]\n",
    "#3. Blue: [0, 0, 1]"
   ]
  },
  {
   "cell_type": "code",
   "execution_count": 4,
   "id": "056dec1f-4c6d-4334-8524-6631016cdbfe",
   "metadata": {},
   "outputs": [],
   "source": [
    "import pandas as pd"
   ]
  },
  {
   "cell_type": "code",
   "execution_count": 6,
   "id": "d39313b1-6b71-44a2-bc23-1c0f49ad4c64",
   "metadata": {},
   "outputs": [],
   "source": [
    "from sklearn.preprocessing import OneHotEncoder"
   ]
  },
  {
   "cell_type": "code",
   "execution_count": 25,
   "id": "ea00490a-11b5-49ed-b829-760311821948",
   "metadata": {},
   "outputs": [],
   "source": [
    "#Create a simple Dataframe\n",
    "df=pd.DataFrame({\n",
    "    'color': ['red', 'blue', 'green', 'green', 'red', 'blue']\n",
    "})"
   ]
  },
  {
   "cell_type": "code",
   "execution_count": 26,
   "id": "5b59e2b8-d85a-408d-884b-394026bb93a7",
   "metadata": {},
   "outputs": [
    {
     "data": {
      "text/html": [
       "<div>\n",
       "<style scoped>\n",
       "    .dataframe tbody tr th:only-of-type {\n",
       "        vertical-align: middle;\n",
       "    }\n",
       "\n",
       "    .dataframe tbody tr th {\n",
       "        vertical-align: top;\n",
       "    }\n",
       "\n",
       "    .dataframe thead th {\n",
       "        text-align: right;\n",
       "    }\n",
       "</style>\n",
       "<table border=\"1\" class=\"dataframe\">\n",
       "  <thead>\n",
       "    <tr style=\"text-align: right;\">\n",
       "      <th></th>\n",
       "      <th>color</th>\n",
       "    </tr>\n",
       "  </thead>\n",
       "  <tbody>\n",
       "    <tr>\n",
       "      <th>0</th>\n",
       "      <td>red</td>\n",
       "    </tr>\n",
       "    <tr>\n",
       "      <th>1</th>\n",
       "      <td>blue</td>\n",
       "    </tr>\n",
       "    <tr>\n",
       "      <th>2</th>\n",
       "      <td>green</td>\n",
       "    </tr>\n",
       "    <tr>\n",
       "      <th>3</th>\n",
       "      <td>green</td>\n",
       "    </tr>\n",
       "    <tr>\n",
       "      <th>4</th>\n",
       "      <td>red</td>\n",
       "    </tr>\n",
       "    <tr>\n",
       "      <th>5</th>\n",
       "      <td>blue</td>\n",
       "    </tr>\n",
       "  </tbody>\n",
       "</table>\n",
       "</div>"
      ],
      "text/plain": [
       "   color\n",
       "0    red\n",
       "1   blue\n",
       "2  green\n",
       "3  green\n",
       "4    red\n",
       "5   blue"
      ]
     },
     "execution_count": 26,
     "metadata": {},
     "output_type": "execute_result"
    }
   ],
   "source": [
    "df"
   ]
  },
  {
   "cell_type": "code",
   "execution_count": 9,
   "id": "a09e0b62-5644-4416-becf-8c75026f4209",
   "metadata": {},
   "outputs": [],
   "source": [
    "##Create an instance of OneHotEncoder"
   ]
  },
  {
   "cell_type": "code",
   "execution_count": 10,
   "id": "17519147-9e00-4dbb-a962-e91d0a839cb4",
   "metadata": {},
   "outputs": [],
   "source": [
    "encoder=OneHotEncoder()"
   ]
  },
  {
   "cell_type": "code",
   "execution_count": 11,
   "id": "5e182949-b6d3-40cc-9faa-1c90d6b479a2",
   "metadata": {},
   "outputs": [],
   "source": [
    "##Fit and the transform or we can even use together"
   ]
  },
  {
   "cell_type": "code",
   "execution_count": 15,
   "id": "7cbcaeb8-e154-422f-9296-c1824c00e9d3",
   "metadata": {},
   "outputs": [],
   "source": [
    "arr=encoder.fit_transform(df[['color']]).toarray()"
   ]
  },
  {
   "cell_type": "code",
   "execution_count": 18,
   "id": "876046f6-f572-4a91-b7b0-b2ca7eeed2e6",
   "metadata": {},
   "outputs": [
    {
     "data": {
      "text/plain": [
       "array([[0., 0., 1.],\n",
       "       [1., 0., 0.],\n",
       "       [0., 1., 0.],\n",
       "       [0., 1., 0.],\n",
       "       [0., 0., 1.],\n",
       "       [1., 0., 0.]])"
      ]
     },
     "execution_count": 18,
     "metadata": {},
     "output_type": "execute_result"
    }
   ],
   "source": [
    "arr"
   ]
  },
  {
   "cell_type": "code",
   "execution_count": 13,
   "id": "d85c4afc-6679-43cb-983f-b0f51a2121dd",
   "metadata": {},
   "outputs": [],
   "source": [
    "#Therefore they did by alphabetical sorting\n",
    "#(Blue,Green,Red)"
   ]
  },
  {
   "cell_type": "code",
   "execution_count": 27,
   "id": "ed1e6e1f-c3dd-4887-9122-77d6ca9de417",
   "metadata": {},
   "outputs": [],
   "source": [
    "df1=pd.DataFrame(arr,columns=encoder.get_feature_names_out())"
   ]
  },
  {
   "cell_type": "code",
   "execution_count": 28,
   "id": "6d285406-f563-4e10-bbf4-10a36f3d09fa",
   "metadata": {},
   "outputs": [
    {
     "data": {
      "text/html": [
       "<div>\n",
       "<style scoped>\n",
       "    .dataframe tbody tr th:only-of-type {\n",
       "        vertical-align: middle;\n",
       "    }\n",
       "\n",
       "    .dataframe tbody tr th {\n",
       "        vertical-align: top;\n",
       "    }\n",
       "\n",
       "    .dataframe thead th {\n",
       "        text-align: right;\n",
       "    }\n",
       "</style>\n",
       "<table border=\"1\" class=\"dataframe\">\n",
       "  <thead>\n",
       "    <tr style=\"text-align: right;\">\n",
       "      <th></th>\n",
       "      <th>color_blue</th>\n",
       "      <th>color_green</th>\n",
       "      <th>color_red</th>\n",
       "    </tr>\n",
       "  </thead>\n",
       "  <tbody>\n",
       "    <tr>\n",
       "      <th>0</th>\n",
       "      <td>0.0</td>\n",
       "      <td>0.0</td>\n",
       "      <td>1.0</td>\n",
       "    </tr>\n",
       "    <tr>\n",
       "      <th>1</th>\n",
       "      <td>1.0</td>\n",
       "      <td>0.0</td>\n",
       "      <td>0.0</td>\n",
       "    </tr>\n",
       "    <tr>\n",
       "      <th>2</th>\n",
       "      <td>0.0</td>\n",
       "      <td>1.0</td>\n",
       "      <td>0.0</td>\n",
       "    </tr>\n",
       "    <tr>\n",
       "      <th>3</th>\n",
       "      <td>0.0</td>\n",
       "      <td>1.0</td>\n",
       "      <td>0.0</td>\n",
       "    </tr>\n",
       "    <tr>\n",
       "      <th>4</th>\n",
       "      <td>0.0</td>\n",
       "      <td>0.0</td>\n",
       "      <td>1.0</td>\n",
       "    </tr>\n",
       "    <tr>\n",
       "      <th>5</th>\n",
       "      <td>1.0</td>\n",
       "      <td>0.0</td>\n",
       "      <td>0.0</td>\n",
       "    </tr>\n",
       "  </tbody>\n",
       "</table>\n",
       "</div>"
      ],
      "text/plain": [
       "   color_blue  color_green  color_red\n",
       "0         0.0          0.0        1.0\n",
       "1         1.0          0.0        0.0\n",
       "2         0.0          1.0        0.0\n",
       "3         0.0          1.0        0.0\n",
       "4         0.0          0.0        1.0\n",
       "5         1.0          0.0        0.0"
      ]
     },
     "execution_count": 28,
     "metadata": {},
     "output_type": "execute_result"
    }
   ],
   "source": [
    "df1"
   ]
  },
  {
   "cell_type": "code",
   "execution_count": 29,
   "id": "3278842a-c799-4a71-a5b8-4c4ddaeed15a",
   "metadata": {},
   "outputs": [
    {
     "data": {
      "text/html": [
       "<div>\n",
       "<style scoped>\n",
       "    .dataframe tbody tr th:only-of-type {\n",
       "        vertical-align: middle;\n",
       "    }\n",
       "\n",
       "    .dataframe tbody tr th {\n",
       "        vertical-align: top;\n",
       "    }\n",
       "\n",
       "    .dataframe thead th {\n",
       "        text-align: right;\n",
       "    }\n",
       "</style>\n",
       "<table border=\"1\" class=\"dataframe\">\n",
       "  <thead>\n",
       "    <tr style=\"text-align: right;\">\n",
       "      <th></th>\n",
       "      <th>color</th>\n",
       "      <th>color_blue</th>\n",
       "      <th>color_green</th>\n",
       "      <th>color_red</th>\n",
       "    </tr>\n",
       "  </thead>\n",
       "  <tbody>\n",
       "    <tr>\n",
       "      <th>0</th>\n",
       "      <td>red</td>\n",
       "      <td>0.0</td>\n",
       "      <td>0.0</td>\n",
       "      <td>1.0</td>\n",
       "    </tr>\n",
       "    <tr>\n",
       "      <th>1</th>\n",
       "      <td>blue</td>\n",
       "      <td>1.0</td>\n",
       "      <td>0.0</td>\n",
       "      <td>0.0</td>\n",
       "    </tr>\n",
       "    <tr>\n",
       "      <th>2</th>\n",
       "      <td>green</td>\n",
       "      <td>0.0</td>\n",
       "      <td>1.0</td>\n",
       "      <td>0.0</td>\n",
       "    </tr>\n",
       "    <tr>\n",
       "      <th>3</th>\n",
       "      <td>green</td>\n",
       "      <td>0.0</td>\n",
       "      <td>1.0</td>\n",
       "      <td>0.0</td>\n",
       "    </tr>\n",
       "    <tr>\n",
       "      <th>4</th>\n",
       "      <td>red</td>\n",
       "      <td>0.0</td>\n",
       "      <td>0.0</td>\n",
       "      <td>1.0</td>\n",
       "    </tr>\n",
       "    <tr>\n",
       "      <th>5</th>\n",
       "      <td>blue</td>\n",
       "      <td>1.0</td>\n",
       "      <td>0.0</td>\n",
       "      <td>0.0</td>\n",
       "    </tr>\n",
       "  </tbody>\n",
       "</table>\n",
       "</div>"
      ],
      "text/plain": [
       "   color  color_blue  color_green  color_red\n",
       "0    red         0.0          0.0        1.0\n",
       "1   blue         1.0          0.0        0.0\n",
       "2  green         0.0          1.0        0.0\n",
       "3  green         0.0          1.0        0.0\n",
       "4    red         0.0          0.0        1.0\n",
       "5   blue         1.0          0.0        0.0"
      ]
     },
     "execution_count": 29,
     "metadata": {},
     "output_type": "execute_result"
    }
   ],
   "source": [
    "pd.concat([df,df1],axis=1)"
   ]
  },
  {
   "cell_type": "markdown",
   "id": "35b1b104-9e26-4f4e-bebf-001d5d016249",
   "metadata": {},
   "source": [
    "#### DIFFERENCE BETWEEN NoMINAL AND ONE HOT ENCODING\n"
   ]
  },
  {
   "cell_type": "code",
   "execution_count": 32,
   "id": "54c4fbdd-5a54-4056-a3ae-d57ad783874d",
   "metadata": {},
   "outputs": [],
   "source": [
    "#DIFFERENCE BETWEEN NIMINAL AND ONE HOT ENCODING\n",
    "\n",
    "\n",
    "#Nominal encoding and one-hot encoding are both techniques used to transform categorical data into numerical form that can be used in \n",
    "#machine learning algorithms. However, there are some key differences between the two techniques:\n",
    "\n",
    "#Nominal encoding: Nominal encoding is a technique that assigns a unique numerical value to each category in a categorical variable. \n",
    "#These numerical values are typically integers starting from 0, and there is no inherent order or ranking to the values.\n",
    "#Nominal encoding is useful when the categories do not have any inherent order or ranking.\n",
    "\n",
    "#One-hot encoding: One-hot encoding is a technique that creates a set of binary variables, one for each category in a categorical variable.\n",
    "#Each binary variable represents a category, and the value is 1 if the category is present and 0 if it is not. One-hot encoding is\n",
    "#useful when the categories do not have any inherent order or ranking and when the number of categories is small.\n",
    "\n",
    "#The main difference between nominal encoding and one-hot encoding is in the resulting encoded variables. Nominal encoding produces a \n",
    "#single numerical variable with multiple values, one for each category, while one-hot encoding produces multiple binary variables, \n",
    "#one for each category.\n",
    "\n",
    "#Here's an example to illustrate the difference between nominal and one-hot encoding. Let's say we have a categorical variable \"Color\"\n",
    "#with the following categories: \"Red\", \"Green\", and \"Blue\".\n",
    "\n",
    "#Nominal encoding: We can assign numerical values to each category as follows: \"Red\" = 0, \"Green\" = 1, and \"Blue\" = 2. \n",
    "#The resulting variable would be a single numerical variable with values ranging from 0 to 2.\n",
    "\n",
    "#One-hot encoding: We can create three binary variables, one for each category, as follows: \"Red\" = [1, 0, 0], \"Green\" = [0, 1, 0], and \n",
    "#\"Blue\" = [0, 0, 1]. The resulting variables would be three binary variables, with each variable indicating whether a particular \n",
    "#category is present or not."
   ]
  },
  {
   "cell_type": "markdown",
   "id": "9961c617-25c3-4b61-8ed5-a794a2d6ef7a",
   "metadata": {},
   "source": [
    "#### Differece between One Hot Encoding and Binary Encoding Technique"
   ]
  },
  {
   "cell_type": "code",
   "execution_count": 33,
   "id": "5500589e-ee39-47e3-a233-8c1599af847c",
   "metadata": {},
   "outputs": [],
   "source": [
    "#One-hot encoding and binary encoding are both techniques used to transform categorical data into a numerical format suitable for machine learning algorithms. \n",
    "#The main difference between these techniques lies in the number of binary features used to represent each categorical value.\n",
    "\n",
    "#In one-hot encoding, each unique value in the categorical feature is represented by a binary vector with as many elements as there are unique values. \n",
    "#For example, if a feature \"color\" has three unique values: \"red\", \"green\", and \"blue\", one-hot encoding would represent these values as [1, 0, 0], [0, 1, 0], and [0, 0, 1], \n",
    "#respectively. Only one element in the vector is 1, and the rest are 0s.\n",
    "\n",
    "#In binary encoding, each unique value in the categorical feature is represented by a binary code of a fixed length, typically log2(n), where n is the number of unique values.\n",
    "#For example, if the feature \"color\" has three unique values, binary encoding would represent them as [00], [01], and [10]. The main difference is that in binary encoding, each \n",
    "#unique value is represented by a binary code with fewer bits than the number of unique values, whereas in one-hot encoding, each unique value is represented by a binary vector \n",
    "#with the same length as the number of unique values."
   ]
  },
  {
   "cell_type": "code",
   "execution_count": null,
   "id": "856d425f-6af4-453f-a458-554ab111d112",
   "metadata": {},
   "outputs": [],
   "source": []
  },
  {
   "cell_type": "markdown",
   "id": "15a6c816-0809-40dc-967a-999bf2bd4993",
   "metadata": {},
   "source": [
    "### Label Encoding \n",
    "Label encoding and ordinal encoding are two techniques used to encode categorical data as numerical data.\n",
    "\n",
    "Label encoding involves assigning a unique numerical label to each category in the variable. The labels are usually assigned in alphabetical order or based on the frequency of the categories. For example, if we have a categorical variable \"color\" with three possible values (red, green, blue), we can represent it using label encoding as follows:\n",
    "\n",
    "1. Red: 1\n",
    "2. Green: 2\n",
    "3. Blue: 3"
   ]
  },
  {
   "cell_type": "markdown",
   "id": "438f87c1-46f9-44fc-b38b-8fa2ce49bec8",
   "metadata": {},
   "source": [
    "Labeling, also known as label encoding, is the process of converting categorical values into numerical values. Each unique category is assigned a numerical value, starting from 0 and increasing sequentially. For example, in a dataset with the categorical feature \"fruit\" and categories \"apple,\" \"banana,\" and \"orange,\" label encoding would convert \"apple\" to 0, \"banana\" to 1, and \"orange\" to 2.\n",
    "\n",
    "Ordinal encoding, on the other hand, is a similar process that assigns numerical values to categorical variables, but the values are assigned based on the order or rank of the categories. For example, if we have a dataset with a categorical feature \"size\" and categories \"small,\" \"medium,\" and \"large,\" ordinal encoding would assign \"small\" a lower value than \"medium,\" and \"medium\" a lower value than \"large.\"\n",
    "\n",
    "In summary, labeling assigns numerical values to categories without considering any order or rank, while ordinal encoding assigns values based on the order or rank of the categories."
   ]
  },
  {
   "cell_type": "code",
   "execution_count": 2,
   "id": "01da4f60-4b52-4c60-bd14-18cfad0155ba",
   "metadata": {},
   "outputs": [],
   "source": [
    "import pandas  as pd"
   ]
  },
  {
   "cell_type": "code",
   "execution_count": 19,
   "id": "39d16739-caa5-47de-a8d5-d32812866ce6",
   "metadata": {},
   "outputs": [],
   "source": [
    "df=pd.DataFrame({\"colours\":[\"Red\",\"Green\",\"Blue\",\"Green\",\"Red\",\"Blue\",\"Red\",\"Green\"]})"
   ]
  },
  {
   "cell_type": "code",
   "execution_count": 20,
   "id": "a32504c9-1c5b-4575-a433-f53ac5b18c68",
   "metadata": {},
   "outputs": [
    {
     "data": {
      "text/html": [
       "<div>\n",
       "<style scoped>\n",
       "    .dataframe tbody tr th:only-of-type {\n",
       "        vertical-align: middle;\n",
       "    }\n",
       "\n",
       "    .dataframe tbody tr th {\n",
       "        vertical-align: top;\n",
       "    }\n",
       "\n",
       "    .dataframe thead th {\n",
       "        text-align: right;\n",
       "    }\n",
       "</style>\n",
       "<table border=\"1\" class=\"dataframe\">\n",
       "  <thead>\n",
       "    <tr style=\"text-align: right;\">\n",
       "      <th></th>\n",
       "      <th>colours</th>\n",
       "    </tr>\n",
       "  </thead>\n",
       "  <tbody>\n",
       "    <tr>\n",
       "      <th>0</th>\n",
       "      <td>Red</td>\n",
       "    </tr>\n",
       "    <tr>\n",
       "      <th>1</th>\n",
       "      <td>Green</td>\n",
       "    </tr>\n",
       "    <tr>\n",
       "      <th>2</th>\n",
       "      <td>Blue</td>\n",
       "    </tr>\n",
       "    <tr>\n",
       "      <th>3</th>\n",
       "      <td>Green</td>\n",
       "    </tr>\n",
       "    <tr>\n",
       "      <th>4</th>\n",
       "      <td>Red</td>\n",
       "    </tr>\n",
       "    <tr>\n",
       "      <th>5</th>\n",
       "      <td>Blue</td>\n",
       "    </tr>\n",
       "    <tr>\n",
       "      <th>6</th>\n",
       "      <td>Red</td>\n",
       "    </tr>\n",
       "    <tr>\n",
       "      <th>7</th>\n",
       "      <td>Green</td>\n",
       "    </tr>\n",
       "  </tbody>\n",
       "</table>\n",
       "</div>"
      ],
      "text/plain": [
       "  colours\n",
       "0     Red\n",
       "1   Green\n",
       "2    Blue\n",
       "3   Green\n",
       "4     Red\n",
       "5    Blue\n",
       "6     Red\n",
       "7   Green"
      ]
     },
     "execution_count": 20,
     "metadata": {},
     "output_type": "execute_result"
    }
   ],
   "source": [
    "df"
   ]
  },
  {
   "cell_type": "code",
   "execution_count": 6,
   "id": "c8779c60-4e1b-4700-89af-7b50e61eb459",
   "metadata": {},
   "outputs": [],
   "source": [
    "from sklearn.preprocessing import LabelEncoder"
   ]
  },
  {
   "cell_type": "code",
   "execution_count": 7,
   "id": "3b35bc0c-1a78-4d82-b23c-7f4ac2fd4cce",
   "metadata": {},
   "outputs": [],
   "source": [
    "scaler=LabelEncoder()"
   ]
  },
  {
   "cell_type": "code",
   "execution_count": 14,
   "id": "68671816-8c93-4d9e-99b0-532158865df9",
   "metadata": {},
   "outputs": [],
   "source": [
    "import numpy as np"
   ]
  },
  {
   "cell_type": "code",
   "execution_count": 21,
   "id": "a0814860-d07a-47a5-bc10-ffd2fcdb5a1b",
   "metadata": {},
   "outputs": [
    {
     "name": "stderr",
     "output_type": "stream",
     "text": [
      "/opt/conda/lib/python3.10/site-packages/sklearn/preprocessing/_label.py:116: DataConversionWarning: A column-vector y was passed when a 1d array was expected. Please change the shape of y to (n_samples, ), for example using ravel().\n",
      "  y = column_or_1d(y, warn=True)\n"
     ]
    }
   ],
   "source": [
    "arr=scaler.fit_transform(df[[\"colours\"]])"
   ]
  },
  {
   "cell_type": "code",
   "execution_count": 22,
   "id": "bf04d5c2-7f1a-437e-a53e-ddf1ee392a5c",
   "metadata": {},
   "outputs": [
    {
     "data": {
      "text/plain": [
       "array([2, 1, 0, 1, 2, 0, 2, 1])"
      ]
     },
     "execution_count": 22,
     "metadata": {},
     "output_type": "execute_result"
    }
   ],
   "source": [
    "arr"
   ]
  },
  {
   "cell_type": "code",
   "execution_count": 12,
   "id": "5a99ed2c-44ea-447f-b092-b7731d4a14e1",
   "metadata": {},
   "outputs": [
    {
     "data": {
      "text/html": [
       "<div>\n",
       "<style scoped>\n",
       "    .dataframe tbody tr th:only-of-type {\n",
       "        vertical-align: middle;\n",
       "    }\n",
       "\n",
       "    .dataframe tbody tr th {\n",
       "        vertical-align: top;\n",
       "    }\n",
       "\n",
       "    .dataframe thead th {\n",
       "        text-align: right;\n",
       "    }\n",
       "</style>\n",
       "<table border=\"1\" class=\"dataframe\">\n",
       "  <thead>\n",
       "    <tr style=\"text-align: right;\">\n",
       "      <th></th>\n",
       "      <th>colours</th>\n",
       "    </tr>\n",
       "  </thead>\n",
       "  <tbody>\n",
       "    <tr>\n",
       "      <th>0</th>\n",
       "      <td>Red</td>\n",
       "    </tr>\n",
       "    <tr>\n",
       "      <th>1</th>\n",
       "      <td>Green</td>\n",
       "    </tr>\n",
       "    <tr>\n",
       "      <th>2</th>\n",
       "      <td>Blue</td>\n",
       "    </tr>\n",
       "  </tbody>\n",
       "</table>\n",
       "</div>"
      ],
      "text/plain": [
       "  colours\n",
       "0     Red\n",
       "1   Green\n",
       "2    Blue"
      ]
     },
     "execution_count": 12,
     "metadata": {},
     "output_type": "execute_result"
    }
   ],
   "source": [
    "df"
   ]
  },
  {
   "cell_type": "code",
   "execution_count": 26,
   "id": "d9489843-e1ff-4f52-a779-ae9d8bf5a4b2",
   "metadata": {},
   "outputs": [
    {
     "data": {
      "text/plain": [
       "array([2])"
      ]
     },
     "execution_count": 26,
     "metadata": {},
     "output_type": "execute_result"
    }
   ],
   "source": [
    "scaler.transform([[\"Red\"]]) #We can even check or add values separetely"
   ]
  },
  {
   "cell_type": "code",
   "execution_count": 27,
   "id": "eee57234-3b5a-4294-9f2a-e289a38fef53",
   "metadata": {},
   "outputs": [
    {
     "data": {
      "text/plain": [
       "array([0])"
      ]
     },
     "execution_count": 27,
     "metadata": {},
     "output_type": "execute_result"
    }
   ],
   "source": [
    "scaler.transform([[\"Blue\"]])"
   ]
  },
  {
   "cell_type": "markdown",
   "id": "d262c166-9f66-4c6c-9c0f-81fec57ce776",
   "metadata": {},
   "source": [
    "### Ordinal Encoding\n",
    "It is used to encode categorical data that have an intrinsic order or ranking. In this technique, each category is assigned a numerical value based on its position in the order. For example, if we have a categorical variable \"education level\" with four possible values (high school, college, graduate, post-graduate), we can represent it using ordinal encoding as follows:\n",
    "\n",
    "1. High school: 1\n",
    "2. College: 2\n",
    "3. Graduate: 3\n",
    "4. Post-graduate: 4"
   ]
  },
  {
   "cell_type": "code",
   "execution_count": 28,
   "id": "d0f44517-d33b-42da-b423-d6fdb6df7ef5",
   "metadata": {},
   "outputs": [],
   "source": [
    "from sklearn.preprocessing import OrdinalEncoder"
   ]
  },
  {
   "cell_type": "code",
   "execution_count": 29,
   "id": "60c1aaee-b1d6-42ee-98e8-09ae06346d99",
   "metadata": {},
   "outputs": [],
   "source": [
    "scaler=OrdinalEncoder()"
   ]
  },
  {
   "cell_type": "code",
   "execution_count": 30,
   "id": "9df56cea-f478-40b4-8c29-7c2313e1d9ab",
   "metadata": {},
   "outputs": [],
   "source": [
    "df=pd.DataFrame({\"Degree\":[\"BTECH\",\"BE\",\"BCA\",\"BBA\",\"BSC\",\"BBA\",\"PHD\",\"BTECH\"]})"
   ]
  },
  {
   "cell_type": "code",
   "execution_count": 31,
   "id": "4a4eb49e-031e-4836-a95f-761d1f7ce287",
   "metadata": {},
   "outputs": [
    {
     "data": {
      "text/html": [
       "<div>\n",
       "<style scoped>\n",
       "    .dataframe tbody tr th:only-of-type {\n",
       "        vertical-align: middle;\n",
       "    }\n",
       "\n",
       "    .dataframe tbody tr th {\n",
       "        vertical-align: top;\n",
       "    }\n",
       "\n",
       "    .dataframe thead th {\n",
       "        text-align: right;\n",
       "    }\n",
       "</style>\n",
       "<table border=\"1\" class=\"dataframe\">\n",
       "  <thead>\n",
       "    <tr style=\"text-align: right;\">\n",
       "      <th></th>\n",
       "      <th>Degree</th>\n",
       "    </tr>\n",
       "  </thead>\n",
       "  <tbody>\n",
       "    <tr>\n",
       "      <th>0</th>\n",
       "      <td>BTECH</td>\n",
       "    </tr>\n",
       "    <tr>\n",
       "      <th>1</th>\n",
       "      <td>BE</td>\n",
       "    </tr>\n",
       "    <tr>\n",
       "      <th>2</th>\n",
       "      <td>BCA</td>\n",
       "    </tr>\n",
       "    <tr>\n",
       "      <th>3</th>\n",
       "      <td>BBA</td>\n",
       "    </tr>\n",
       "    <tr>\n",
       "      <th>4</th>\n",
       "      <td>BSC</td>\n",
       "    </tr>\n",
       "    <tr>\n",
       "      <th>5</th>\n",
       "      <td>BBA</td>\n",
       "    </tr>\n",
       "    <tr>\n",
       "      <th>6</th>\n",
       "      <td>PHD</td>\n",
       "    </tr>\n",
       "    <tr>\n",
       "      <th>7</th>\n",
       "      <td>BTECH</td>\n",
       "    </tr>\n",
       "  </tbody>\n",
       "</table>\n",
       "</div>"
      ],
      "text/plain": [
       "  Degree\n",
       "0  BTECH\n",
       "1     BE\n",
       "2    BCA\n",
       "3    BBA\n",
       "4    BSC\n",
       "5    BBA\n",
       "6    PHD\n",
       "7  BTECH"
      ]
     },
     "execution_count": 31,
     "metadata": {},
     "output_type": "execute_result"
    }
   ],
   "source": [
    "df"
   ]
  },
  {
   "cell_type": "code",
   "execution_count": 45,
   "id": "cc6798d6-96ff-4e4f-a77a-c2685b532dcf",
   "metadata": {},
   "outputs": [],
   "source": [
    "#create an instance for giving ranks of ordinalencoder and then fit_transform\n",
    "scaler=OrdinalEncoder(categories=[[\"BBA\",\"BCA\",\"BSC\",\"BE\",\"BTECH\",\"PHD\"]])"
   ]
  },
  {
   "cell_type": "code",
   "execution_count": 46,
   "id": "43c5e61c-6aae-46a6-9b1a-e3d7fe080129",
   "metadata": {},
   "outputs": [
    {
     "data": {
      "text/plain": [
       "array([[4.],\n",
       "       [3.],\n",
       "       [1.],\n",
       "       [0.],\n",
       "       [2.],\n",
       "       [0.],\n",
       "       [5.],\n",
       "       [4.]])"
      ]
     },
     "execution_count": 46,
     "metadata": {},
     "output_type": "execute_result"
    }
   ],
   "source": [
    "scaler.fit_transform(df[[\"Degree\"]]) #So we got data encoding based on ranks"
   ]
  },
  {
   "cell_type": "code",
   "execution_count": 43,
   "id": "63a0a759-0494-4967-9150-e20836949407",
   "metadata": {},
   "outputs": [
    {
     "data": {
      "text/plain": [
       "[array(['BBA', 'BCA', 'BSC', 'BE', 'BTECH', 'PHD'], dtype=object)]"
      ]
     },
     "execution_count": 43,
     "metadata": {},
     "output_type": "execute_result"
    }
   ],
   "source": [
    "scaler.categories_"
   ]
  },
  {
   "cell_type": "markdown",
   "id": "7ab049f7-da55-4957-a210-a9e61e3b5443",
   "metadata": {},
   "source": [
    "## Target Guided Ordinal Encoding \n",
    "It is a technique used to encode categorical variables based on their relationship with the target variable. This encoding technique is useful when we have a categorical variable with a large number of unique categories, and we want to use this variable as a feature in our machine learning model.\n",
    "\n",
    "In Target Guided Ordinal Encoding, we replace each category in the categorical variable with a numerical value based on the mean or median of the target variable for that category. This creates a monotonic relationship between the categorical variable and the target variable, which can improve the predictive power of our model."
   ]
  },
  {
   "cell_type": "code",
   "execution_count": 67,
   "id": "39baafbd-f13c-438a-9827-5ed9a44a43f5",
   "metadata": {},
   "outputs": [],
   "source": [
    "import pandas as pd\n",
    "\n",
    "# create a sample dataframe with a categorical variable and a target variable\n",
    "df = pd.DataFrame({\n",
    "    'city': ['New York', 'London', 'Paris', 'Tokyo', 'New York', 'Paris'],\n",
    "    'price': [200, 150, 300, 250, 180, 320]\n",
    "})"
   ]
  },
  {
   "cell_type": "code",
   "execution_count": 68,
   "id": "4158e78a-2403-4a19-935a-6caab5ffdcba",
   "metadata": {},
   "outputs": [
    {
     "data": {
      "text/html": [
       "<div>\n",
       "<style scoped>\n",
       "    .dataframe tbody tr th:only-of-type {\n",
       "        vertical-align: middle;\n",
       "    }\n",
       "\n",
       "    .dataframe tbody tr th {\n",
       "        vertical-align: top;\n",
       "    }\n",
       "\n",
       "    .dataframe thead th {\n",
       "        text-align: right;\n",
       "    }\n",
       "</style>\n",
       "<table border=\"1\" class=\"dataframe\">\n",
       "  <thead>\n",
       "    <tr style=\"text-align: right;\">\n",
       "      <th></th>\n",
       "      <th>city</th>\n",
       "      <th>price</th>\n",
       "    </tr>\n",
       "  </thead>\n",
       "  <tbody>\n",
       "    <tr>\n",
       "      <th>0</th>\n",
       "      <td>New York</td>\n",
       "      <td>200</td>\n",
       "    </tr>\n",
       "    <tr>\n",
       "      <th>1</th>\n",
       "      <td>London</td>\n",
       "      <td>150</td>\n",
       "    </tr>\n",
       "    <tr>\n",
       "      <th>2</th>\n",
       "      <td>Paris</td>\n",
       "      <td>300</td>\n",
       "    </tr>\n",
       "    <tr>\n",
       "      <th>3</th>\n",
       "      <td>Tokyo</td>\n",
       "      <td>250</td>\n",
       "    </tr>\n",
       "    <tr>\n",
       "      <th>4</th>\n",
       "      <td>New York</td>\n",
       "      <td>180</td>\n",
       "    </tr>\n",
       "    <tr>\n",
       "      <th>5</th>\n",
       "      <td>Paris</td>\n",
       "      <td>320</td>\n",
       "    </tr>\n",
       "  </tbody>\n",
       "</table>\n",
       "</div>"
      ],
      "text/plain": [
       "       city  price\n",
       "0  New York    200\n",
       "1    London    150\n",
       "2     Paris    300\n",
       "3     Tokyo    250\n",
       "4  New York    180\n",
       "5     Paris    320"
      ]
     },
     "execution_count": 68,
     "metadata": {},
     "output_type": "execute_result"
    }
   ],
   "source": [
    "df"
   ]
  },
  {
   "cell_type": "code",
   "execution_count": 69,
   "id": "2748a7d0-5af5-405c-af04-6d56c800a608",
   "metadata": {},
   "outputs": [
    {
     "data": {
      "text/plain": [
       "city\n",
       "London      150.0\n",
       "New York    190.0\n",
       "Paris       310.0\n",
       "Tokyo       250.0\n",
       "Name: price, dtype: float64"
      ]
     },
     "execution_count": 69,
     "metadata": {},
     "output_type": "execute_result"
    }
   ],
   "source": [
    "df.groupby('city')['price'].mean()"
   ]
  },
  {
   "cell_type": "code",
   "execution_count": 70,
   "id": "67401b9b-fd90-48e5-8eb3-f1ffc83c812b",
   "metadata": {},
   "outputs": [],
   "source": [
    "mean_price=df.groupby('city')['price'].mean().to_dict()"
   ]
  },
  {
   "cell_type": "code",
   "execution_count": 85,
   "id": "d8658677-ef92-4be3-89a3-304626b12e10",
   "metadata": {},
   "outputs": [
    {
     "data": {
      "text/plain": [
       "{'London': 150.0, 'New York': 190.0, 'Paris': 310.0, 'Tokyo': 250.0}"
      ]
     },
     "execution_count": 85,
     "metadata": {},
     "output_type": "execute_result"
    }
   ],
   "source": [
    "mean_price"
   ]
  },
  {
   "cell_type": "code",
   "execution_count": 76,
   "id": "d9eed69b-6aa8-46d8-9a3e-8554d6d0c9c5",
   "metadata": {},
   "outputs": [],
   "source": [
    "df['city_encoded']=df['city'].map(mean_price)"
   ]
  },
  {
   "cell_type": "code",
   "execution_count": 77,
   "id": "56c556c3-e2bb-4f39-a282-abfbcd81384b",
   "metadata": {},
   "outputs": [
    {
     "data": {
      "text/html": [
       "<div>\n",
       "<style scoped>\n",
       "    .dataframe tbody tr th:only-of-type {\n",
       "        vertical-align: middle;\n",
       "    }\n",
       "\n",
       "    .dataframe tbody tr th {\n",
       "        vertical-align: top;\n",
       "    }\n",
       "\n",
       "    .dataframe thead th {\n",
       "        text-align: right;\n",
       "    }\n",
       "</style>\n",
       "<table border=\"1\" class=\"dataframe\">\n",
       "  <thead>\n",
       "    <tr style=\"text-align: right;\">\n",
       "      <th></th>\n",
       "      <th>city</th>\n",
       "      <th>price</th>\n",
       "      <th>city_encoded</th>\n",
       "    </tr>\n",
       "  </thead>\n",
       "  <tbody>\n",
       "    <tr>\n",
       "      <th>0</th>\n",
       "      <td>New York</td>\n",
       "      <td>200</td>\n",
       "      <td>190.0</td>\n",
       "    </tr>\n",
       "    <tr>\n",
       "      <th>1</th>\n",
       "      <td>London</td>\n",
       "      <td>150</td>\n",
       "      <td>150.0</td>\n",
       "    </tr>\n",
       "    <tr>\n",
       "      <th>2</th>\n",
       "      <td>Paris</td>\n",
       "      <td>300</td>\n",
       "      <td>310.0</td>\n",
       "    </tr>\n",
       "    <tr>\n",
       "      <th>3</th>\n",
       "      <td>Tokyo</td>\n",
       "      <td>250</td>\n",
       "      <td>250.0</td>\n",
       "    </tr>\n",
       "    <tr>\n",
       "      <th>4</th>\n",
       "      <td>New York</td>\n",
       "      <td>180</td>\n",
       "      <td>190.0</td>\n",
       "    </tr>\n",
       "    <tr>\n",
       "      <th>5</th>\n",
       "      <td>Paris</td>\n",
       "      <td>320</td>\n",
       "      <td>310.0</td>\n",
       "    </tr>\n",
       "  </tbody>\n",
       "</table>\n",
       "</div>"
      ],
      "text/plain": [
       "       city  price  city_encoded\n",
       "0  New York    200         190.0\n",
       "1    London    150         150.0\n",
       "2     Paris    300         310.0\n",
       "3     Tokyo    250         250.0\n",
       "4  New York    180         190.0\n",
       "5     Paris    320         310.0"
      ]
     },
     "execution_count": 77,
     "metadata": {},
     "output_type": "execute_result"
    }
   ],
   "source": [
    "df"
   ]
  },
  {
   "cell_type": "code",
   "execution_count": 60,
   "id": "b1f650b2-f51e-4ec1-80cd-3b243215037a",
   "metadata": {},
   "outputs": [
    {
     "name": "stdout",
     "output_type": "stream",
     "text": [
      "         education  default  education_encoded\n",
      "0      high school        1                  2\n",
      "1          college        0                  0\n",
      "2  graduate school        0                  1\n",
      "3      high school        1                  2\n",
      "4          college        0                  0\n"
     ]
    }
   ],
   "source": [
    "import pandas as pd\n",
    "\n",
    "# create a sample dataset\n",
    "data = {'education': ['high school', 'college', 'graduate school', 'high school', 'college'],\n",
    "        'default': [1, 0, 0, 1, 0]}\n",
    "df = pd.DataFrame(data)\n",
    "\n",
    "# calculate the mean target variable for each category of 'education'\n",
    "target_means = df.groupby('education')['default'].mean().sort_values()\n",
    "\n",
    "# create a dictionary to map categories to numerical values based on target means\n",
    "target_dict = {k: i for i, k in enumerate(target_means.index)}\n",
    "\n",
    "# apply the target-guided ordinal encoding to the 'education' column\n",
    "df['education_encoded'] = df['education'].map(target_dict)\n",
    "\n",
    "print(df)\n"
   ]
  },
  {
   "cell_type": "code",
   "execution_count": null,
   "id": "a966c42d-ee5e-4b19-80d3-715176be35cd",
   "metadata": {},
   "outputs": [],
   "source": []
  }
 ],
 "metadata": {
  "kernelspec": {
   "display_name": "Python 3 (ipykernel)",
   "language": "python",
   "name": "python3"
  },
  "language_info": {
   "codemirror_mode": {
    "name": "ipython",
    "version": 3
   },
   "file_extension": ".py",
   "mimetype": "text/x-python",
   "name": "python",
   "nbconvert_exporter": "python",
   "pygments_lexer": "ipython3",
   "version": "3.10.8"
  }
 },
 "nbformat": 4,
 "nbformat_minor": 5
}
