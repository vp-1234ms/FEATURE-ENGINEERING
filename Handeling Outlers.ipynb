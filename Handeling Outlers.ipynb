{
 "cells": [
  {
   "cell_type": "markdown",
   "id": "688289c6-45ea-483d-940e-c82edcaabea3",
   "metadata": {},
   "source": [
    "## 5 number Summary And Box Plot"
   ]
  },
  {
   "cell_type": "code",
   "execution_count": 2,
   "id": "0382929d-d2af-4dcb-add7-0db62f1771b0",
   "metadata": {},
   "outputs": [],
   "source": [
    "# Minimum , Q1 , Q2 , Q3 , Maximum"
   ]
  },
  {
   "cell_type": "code",
   "execution_count": 3,
   "id": "8e09ca10-5fb5-474b-97f1-161de47a5216",
   "metadata": {},
   "outputs": [],
   "source": [
    "import numpy as np"
   ]
  },
  {
   "cell_type": "code",
   "execution_count": 54,
   "id": "8ee2628e-7ce2-494e-aa03-7b36587a3c51",
   "metadata": {},
   "outputs": [],
   "source": [
    "ages=[18,20,35,65,-150,-82,74,96,2,99,52,26,35,47,102,301,205,145,37,49,58]"
   ]
  },
  {
   "cell_type": "code",
   "execution_count": 55,
   "id": "2239fc2f-7411-40d2-8ab6-74ad68974355",
   "metadata": {},
   "outputs": [],
   "source": [
    "# calculate a 5-number summary\n",
    "from numpy import percentile\n",
    "Q1,Q2,Q3 = percentile(ages, [25, 50, 75])\n",
    "minimum, maximum = min(ages), max(ages)"
   ]
  },
  {
   "cell_type": "code",
   "execution_count": 56,
   "id": "eae8a2c3-ce44-4251-a4a0-0844f60d3a35",
   "metadata": {},
   "outputs": [],
   "source": [
    "IQR=Q3-Q1"
   ]
  },
  {
   "cell_type": "code",
   "execution_count": 57,
   "id": "32563d75-d862-475f-9b9b-7bdeea9b4f9f",
   "metadata": {},
   "outputs": [],
   "source": [
    "LOWER_FENCE=Q1-(1.5*IQR)\n",
    "HIGHER_FENCE=Q3+(1.5*IQR)"
   ]
  },
  {
   "cell_type": "code",
   "execution_count": 58,
   "id": "6b656ac7-3ba3-4c38-9142-994c151bb09e",
   "metadata": {},
   "outputs": [
    {
     "data": {
      "text/plain": [
       "-79.0"
      ]
     },
     "execution_count": 58,
     "metadata": {},
     "output_type": "execute_result"
    }
   ],
   "source": [
    "LOWER_FENCE"
   ]
  },
  {
   "cell_type": "code",
   "execution_count": 59,
   "id": "cf952ae2-8110-4a60-8ab3-7062639b8618",
   "metadata": {},
   "outputs": [
    {
     "data": {
      "text/plain": [
       "201.0"
      ]
     },
     "execution_count": 59,
     "metadata": {},
     "output_type": "execute_result"
    }
   ],
   "source": [
    "HIGHER_FENCE"
   ]
  },
  {
   "cell_type": "code",
   "execution_count": 60,
   "id": "82f49fb4-1130-45ce-bc6e-7096e8aa99bf",
   "metadata": {},
   "outputs": [
    {
     "data": {
      "image/png": "[encoded data removed]",
      "text/plain": [
       "<Figure size 500x500 with 1 Axes>"
      ]
     },
     "metadata": {},
     "output_type": "display_data"
    }
   ],
   "source": [
    "import matplotlib.pyplot as plt\n",
    "fig = plt.figure(figsize =(5, 5))\n",
    "plt.boxplot(ages)\n",
    "plt.show()"
   ]
  },
  {
   "cell_type": "code",
   "execution_count": 61,
   "id": "b214f5b3-603e-4a0b-9f83-c6fac9d1da65",
   "metadata": {},
   "outputs": [],
   "source": [
    "outliers=[]\n",
    "for i in ages:\n",
    "    if(i<LOWER_FENCE):\n",
    "        outliers.append(i)\n",
    "    elif(i>HIGHER_FENCE):\n",
    "        outliers.append(i)"
   ]
  },
  {
   "cell_type": "code",
   "execution_count": 62,
   "id": "51e16394-c778-4984-988d-7b20cd4f5cea",
   "metadata": {},
   "outputs": [
    {
     "data": {
      "text/plain": [
       "[-150, -82, 301, 205]"
      ]
     },
     "execution_count": 62,
     "metadata": {},
     "output_type": "execute_result"
    }
   ],
   "source": [
    "outliers"
   ]
  },
  {
   "cell_type": "code",
   "execution_count": 63,
   "id": "bcab3c4f-ae6d-4d01-ac2c-b0082fb0c32a",
   "metadata": {},
   "outputs": [],
   "source": [
    "import seaborn as sns"
   ]
  },
  {
   "cell_type": "code",
   "execution_count": 64,
   "id": "a997812f-5193-427a-b30a-22bba14d2fbc",
   "metadata": {},
   "outputs": [
    {
     "data": {
      "text/plain": [
       "<AxesSubplot: >"
      ]
     },
     "execution_count": 64,
     "metadata": {},
     "output_type": "execute_result"
    },
    {
     "data": {
      "image/png": "[encoded data removed]",
      "text/plain": [
       "<Figure size 640x480 with 1 Axes>"
      ]
     },
     "metadata": {},
     "output_type": "display_data"
    }
   ],
   "source": [
    "sns.boxplot(ages)"
   ]
  },
  {
   "cell_type": "code",
   "execution_count": null,
   "id": "1d291cec-7566-4910-92e0-5de15c8a1985",
   "metadata": {},
   "outputs": [],
   "source": []
  },
  {
   "cell_type": "code",
   "execution_count": null,
   "id": "b9b19d33-91b0-4721-a040-6b51b5acb72b",
   "metadata": {},
   "outputs": [],
   "source": []
  }
 ],
 "metadata": {
  "kernelspec": {
   "display_name": "Python 3 (ipykernel)",
   "language": "python",
   "name": "python3"
  },
  "language_info": {
   "codemirror_mode": {
    "name": "ipython",
    "version": 3
   },
   "file_extension": ".py",
   "mimetype": "text/x-python",
   "name": "python",
   "nbconvert_exporter": "python",
   "pygments_lexer": "ipython3",
   "version": "3.10.8"
  }
 },
 "nbformat": 4,
 "nbformat_minor": 5
}
